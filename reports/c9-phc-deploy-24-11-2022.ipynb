{
 "cells": [
  {
   "cell_type": "code",
   "execution_count": 1,
   "id": "a77d11c0",
   "metadata": {
    "ExecuteTime": {
     "end_time": "2022-11-25T00:58:26.190929Z",
     "start_time": "2022-11-25T00:58:16.775937Z"
    },
    "execution": {
     "iopub.execute_input": "2022-11-25T01:04:31.725863Z",
     "iopub.status.busy": "2022-11-25T01:04:31.724865Z",
     "iopub.status.idle": "2022-11-25T01:04:41.049900Z",
     "shell.execute_reply": "2022-11-25T01:04:41.048900Z"
    },
    "papermill": {
     "duration": 9.346032,
     "end_time": "2022-11-25T01:04:41.051899",
     "exception": false,
     "start_time": "2022-11-25T01:04:31.705867",
     "status": "completed"
    },
    "tags": []
   },
   "outputs": [],
   "source": [
    "import re\n",
    "\n",
    "import pandas     as pd\n",
    "import numpy      as np\n",
    "import seaborn    as sns\n",
    "import umap.umap_ as umap\n",
    "\n",
    "from sklearn.manifold     import TSNE\n",
    "from sqlalchemy           import create_engine\n",
    "from sklearn.neighbors    import NearestNeighbors\n",
    "from sklearn              import decomposition as dd\n",
    "from matplotlib           import pyplot        as plt\n",
    "from sklearn              import cluster       as c\n",
    "from sklearn              import metrics       as m\n",
    "from plotly               import express       as px\n",
    "from sklearn              import preprocessing as pp\n",
    "from sklearn              import ensemble      as en\n",
    "from sklearn              import mixture       as mx\n",
    "from scipy.cluster        import hierarchy     as hc"
   ]
  },
  {
   "cell_type": "markdown",
   "id": "09056698",
   "metadata": {
    "papermill": {
     "duration": 0.010996,
     "end_time": "2022-11-25T01:04:41.074892",
     "exception": false,
     "start_time": "2022-11-25T01:04:41.063896",
     "status": "completed"
    },
    "tags": []
   },
   "source": [
    "## Loading Data"
   ]
  },
  {
   "cell_type": "code",
   "execution_count": 2,
   "id": "d6979c5c",
   "metadata": {
    "ExecuteTime": {
     "end_time": "2022-11-25T00:58:28.579316Z",
     "start_time": "2022-11-25T00:58:27.678595Z"
    },
    "execution": {
     "iopub.execute_input": "2022-11-25T01:04:41.097885Z",
     "iopub.status.busy": "2022-11-25T01:04:41.097885Z",
     "iopub.status.idle": "2022-11-25T01:04:41.981628Z",
     "shell.execute_reply": "2022-11-25T01:04:41.980613Z"
    },
    "papermill": {
     "duration": 0.89774,
     "end_time": "2022-11-25T01:04:41.983627",
     "exception": false,
     "start_time": "2022-11-25T01:04:41.085887",
     "status": "completed"
    },
    "tags": []
   },
   "outputs": [],
   "source": [
    "df_raw = pd.read_csv('C:/Users/Pedro/repos/pa005_insiders_clustering/insiders_cluster/data/raw/data.csv', encoding='unicode_escape')"
   ]
  },
  {
   "cell_type": "markdown",
   "id": "0143c031",
   "metadata": {
    "papermill": {
     "duration": 0.011998,
     "end_time": "2022-11-25T01:04:42.006621",
     "exception": false,
     "start_time": "2022-11-25T01:04:41.994623",
     "status": "completed"
    },
    "tags": []
   },
   "source": [
    "# 1.0 Data Description"
   ]
  },
  {
   "cell_type": "code",
   "execution_count": 3,
   "id": "6b971c7f",
   "metadata": {
    "ExecuteTime": {
     "end_time": "2022-11-25T00:58:28.611316Z",
     "start_time": "2022-11-25T00:58:28.582318Z"
    },
    "execution": {
     "iopub.execute_input": "2022-11-25T01:04:42.029613Z",
     "iopub.status.busy": "2022-11-25T01:04:42.028613Z",
     "iopub.status.idle": "2022-11-25T01:04:42.061603Z",
     "shell.execute_reply": "2022-11-25T01:04:42.060603Z"
    },
    "papermill": {
     "duration": 0.046985,
     "end_time": "2022-11-25T01:04:42.063601",
     "exception": false,
     "start_time": "2022-11-25T01:04:42.016616",
     "status": "completed"
    },
    "tags": []
   },
   "outputs": [],
   "source": [
    "df1 = df_raw.copy()"
   ]
  },
  {
   "cell_type": "markdown",
   "id": "c726347b",
   "metadata": {
    "papermill": {
     "duration": 0.010997,
     "end_time": "2022-11-25T01:04:42.085595",
     "exception": false,
     "start_time": "2022-11-25T01:04:42.074598",
     "status": "completed"
    },
    "tags": []
   },
   "source": [
    "## 1.1 Rename Columns"
   ]
  },
  {
   "cell_type": "code",
   "execution_count": 4,
   "id": "dd6b244e",
   "metadata": {
    "ExecuteTime": {
     "end_time": "2022-11-25T00:58:28.659312Z",
     "start_time": "2022-11-25T00:58:28.653315Z"
    },
    "execution": {
     "iopub.execute_input": "2022-11-25T01:04:42.109588Z",
     "iopub.status.busy": "2022-11-25T01:04:42.109588Z",
     "iopub.status.idle": "2022-11-25T01:04:42.123595Z",
     "shell.execute_reply": "2022-11-25T01:04:42.122595Z"
    },
    "papermill": {
     "duration": 0.029002,
     "end_time": "2022-11-25T01:04:42.125595",
     "exception": false,
     "start_time": "2022-11-25T01:04:42.096593",
     "status": "completed"
    },
    "tags": []
   },
   "outputs": [],
   "source": [
    "cols_new = ['invoice_no', 'stock_code', 'description', 'quantity', 'invoice_date',\n",
    "       'unit_price', 'customer_id', 'country']\n",
    "\n",
    "df1.columns = cols_new"
   ]
  },
  {
   "cell_type": "markdown",
   "id": "be5a679e",
   "metadata": {
    "papermill": {
     "duration": 0.015995,
     "end_time": "2022-11-25T01:04:42.180577",
     "exception": false,
     "start_time": "2022-11-25T01:04:42.164582",
     "status": "completed"
    },
    "tags": []
   },
   "source": [
    "## 1.2 Data Dimensions"
   ]
  },
  {
   "cell_type": "code",
   "execution_count": 5,
   "id": "8835a4b8",
   "metadata": {
    "ExecuteTime": {
     "end_time": "2022-11-25T00:58:29.063571Z",
     "start_time": "2022-11-25T00:58:29.045576Z"
    },
    "execution": {
     "iopub.execute_input": "2022-11-25T01:04:42.205568Z",
     "iopub.status.busy": "2022-11-25T01:04:42.205568Z",
     "iopub.status.idle": "2022-11-25T01:04:42.219574Z",
     "shell.execute_reply": "2022-11-25T01:04:42.218572Z"
    },
    "papermill": {
     "duration": 0.029003,
     "end_time": "2022-11-25T01:04:42.221574",
     "exception": false,
     "start_time": "2022-11-25T01:04:42.192571",
     "status": "completed"
    },
    "tags": []
   },
   "outputs": [
    {
     "name": "stdout",
     "output_type": "stream",
     "text": [
      "The number of rows is: 541909\n",
      "The number of columns is: 8\n"
     ]
    }
   ],
   "source": [
    "print('The number of rows is: {}'.format( df1.shape[0] ))\n",
    "print('The number of columns is: {}'.format( df1.shape[1] ))"
   ]
  },
  {
   "cell_type": "markdown",
   "id": "11c8c036",
   "metadata": {
    "papermill": {
     "duration": 0.010997,
     "end_time": "2022-11-25T01:04:42.243566",
     "exception": false,
     "start_time": "2022-11-25T01:04:42.232569",
     "status": "completed"
    },
    "tags": []
   },
   "source": [
    "## 1.3 Data Types"
   ]
  },
  {
   "cell_type": "code",
   "execution_count": 6,
   "id": "a5d22385",
   "metadata": {
    "ExecuteTime": {
     "end_time": "2022-11-25T00:58:29.458744Z",
     "start_time": "2022-11-25T00:58:29.436751Z"
    },
    "execution": {
     "iopub.execute_input": "2022-11-25T01:04:42.268559Z",
     "iopub.status.busy": "2022-11-25T01:04:42.267560Z",
     "iopub.status.idle": "2022-11-25T01:04:42.282554Z",
     "shell.execute_reply": "2022-11-25T01:04:42.281555Z"
    },
    "papermill": {
     "duration": 0.028991,
     "end_time": "2022-11-25T01:04:42.284553",
     "exception": false,
     "start_time": "2022-11-25T01:04:42.255562",
     "status": "completed"
    },
    "tags": []
   },
   "outputs": [
    {
     "data": {
      "text/plain": [
       "invoice_no       object\n",
       "stock_code       object\n",
       "description      object\n",
       "quantity          int64\n",
       "invoice_date     object\n",
       "unit_price      float64\n",
       "customer_id     float64\n",
       "country          object\n",
       "dtype: object"
      ]
     },
     "execution_count": 6,
     "metadata": {},
     "output_type": "execute_result"
    }
   ],
   "source": [
    "df1.dtypes"
   ]
  },
  {
   "cell_type": "markdown",
   "id": "79133be9",
   "metadata": {
    "papermill": {
     "duration": 0.011999,
     "end_time": "2022-11-25T01:04:42.307548",
     "exception": false,
     "start_time": "2022-11-25T01:04:42.295549",
     "status": "completed"
    },
    "tags": []
   },
   "source": [
    "## 1.4 Check NA"
   ]
  },
  {
   "cell_type": "code",
   "execution_count": 7,
   "id": "a4c08245",
   "metadata": {
    "ExecuteTime": {
     "end_time": "2022-11-25T00:58:30.282795Z",
     "start_time": "2022-11-25T00:58:29.845936Z"
    },
    "execution": {
     "iopub.execute_input": "2022-11-25T01:04:42.331540Z",
     "iopub.status.busy": "2022-11-25T01:04:42.330540Z",
     "iopub.status.idle": "2022-11-25T01:04:42.769420Z",
     "shell.execute_reply": "2022-11-25T01:04:42.768418Z"
    },
    "papermill": {
     "duration": 0.452876,
     "end_time": "2022-11-25T01:04:42.771418",
     "exception": false,
     "start_time": "2022-11-25T01:04:42.318542",
     "status": "completed"
    },
    "tags": []
   },
   "outputs": [
    {
     "data": {
      "text/plain": [
       "invoice_no           0\n",
       "stock_code           0\n",
       "description       1454\n",
       "quantity             0\n",
       "invoice_date         0\n",
       "unit_price           0\n",
       "customer_id     135080\n",
       "country              0\n",
       "dtype: int64"
      ]
     },
     "execution_count": 7,
     "metadata": {},
     "output_type": "execute_result"
    }
   ],
   "source": [
    "df1.isna().sum()"
   ]
  },
  {
   "cell_type": "markdown",
   "id": "ae93e8f7",
   "metadata": {
    "papermill": {
     "duration": 0.011996,
     "end_time": "2022-11-25T01:04:42.795411",
     "exception": false,
     "start_time": "2022-11-25T01:04:42.783415",
     "status": "completed"
    },
    "tags": []
   },
   "source": [
    "## 1.5 Replace NA"
   ]
  },
  {
   "cell_type": "code",
   "execution_count": 8,
   "id": "1e9d7ac5",
   "metadata": {
    "ExecuteTime": {
     "end_time": "2022-11-25T00:58:30.346776Z",
     "start_time": "2022-11-25T00:58:30.285794Z"
    },
    "execution": {
     "iopub.execute_input": "2022-11-25T01:04:42.819404Z",
     "iopub.status.busy": "2022-11-25T01:04:42.818404Z",
     "iopub.status.idle": "2022-11-25T01:04:42.878400Z",
     "shell.execute_reply": "2022-11-25T01:04:42.877400Z"
    },
    "papermill": {
     "duration": 0.073991,
     "end_time": "2022-11-25T01:04:42.880398",
     "exception": false,
     "start_time": "2022-11-25T01:04:42.806407",
     "status": "completed"
    },
    "tags": []
   },
   "outputs": [],
   "source": [
    "# Spliting NA's into two differents dataframes\n",
    "\n",
    "df_missing = df1.loc[ df1['customer_id'].isna(), : ]\n",
    "df_not_missing = df1.loc[~df1['customer_id'].isna(), :]"
   ]
  },
  {
   "cell_type": "code",
   "execution_count": 9,
   "id": "755900cc",
   "metadata": {
    "ExecuteTime": {
     "end_time": "2022-11-25T00:58:30.738786Z",
     "start_time": "2022-11-25T00:58:30.477869Z"
    },
    "execution": {
     "iopub.execute_input": "2022-11-25T01:04:42.905391Z",
     "iopub.status.busy": "2022-11-25T01:04:42.905391Z",
     "iopub.status.idle": "2022-11-25T01:04:43.158336Z",
     "shell.execute_reply": "2022-11-25T01:04:43.157337Z"
    },
    "papermill": {
     "duration": 0.26794,
     "end_time": "2022-11-25T01:04:43.160335",
     "exception": false,
     "start_time": "2022-11-25T01:04:42.892395",
     "status": "completed"
    },
    "tags": []
   },
   "outputs": [],
   "source": [
    "# Creating Reference\n",
    "df_backup = pd.DataFrame( df_missing['invoice_no'].drop_duplicates() )\n",
    "df_backup['customer_id'] = np.arange( 19000, 19000+len( df_backup ), 1 )\n",
    "\n",
    "# Merge original with reference dataframe\n",
    "df1 = pd.merge( df1, df_backup, on='invoice_no', how='left' )\n",
    "\n",
    "# coalesce\n",
    "df1['customer_id'] = df1['customer_id_x'].combine_first( df1['customer_id_y'] )\n",
    "\n",
    "# Dropping extra columns\n",
    "df1 = df1.drop(columns=['customer_id_x', 'customer_id_y'], axis=1)"
   ]
  },
  {
   "cell_type": "markdown",
   "id": "aeccbc04",
   "metadata": {
    "papermill": {
     "duration": 0.010997,
     "end_time": "2022-11-25T01:04:43.183328",
     "exception": false,
     "start_time": "2022-11-25T01:04:43.172331",
     "status": "completed"
    },
    "tags": []
   },
   "source": [
    "## 1.6 Change Types"
   ]
  },
  {
   "cell_type": "code",
   "execution_count": 10,
   "id": "831521a4",
   "metadata": {
    "ExecuteTime": {
     "end_time": "2022-11-25T00:58:33.719528Z",
     "start_time": "2022-11-25T00:58:30.949403Z"
    },
    "execution": {
     "iopub.execute_input": "2022-11-25T01:04:43.209319Z",
     "iopub.status.busy": "2022-11-25T01:04:43.208320Z",
     "iopub.status.idle": "2022-11-25T01:04:45.938470Z",
     "shell.execute_reply": "2022-11-25T01:04:45.937468Z"
    },
    "papermill": {
     "duration": 2.745145,
     "end_time": "2022-11-25T01:04:45.940469",
     "exception": false,
     "start_time": "2022-11-25T01:04:43.195324",
     "status": "completed"
    },
    "tags": []
   },
   "outputs": [],
   "source": [
    "# Invoice Date\n",
    "df1['invoice_date'] = pd.to_datetime( df1['invoice_date'] )\n",
    "\n",
    "# Customer ID\n",
    "df1['customer_id'] = df1['customer_id'].astype(np.int64)"
   ]
  },
  {
   "cell_type": "markdown",
   "id": "1468b62f",
   "metadata": {
    "papermill": {
     "duration": 0.011997,
     "end_time": "2022-11-25T01:04:45.964462",
     "exception": false,
     "start_time": "2022-11-25T01:04:45.952465",
     "status": "completed"
    },
    "tags": []
   },
   "source": [
    "# 2.0 Filtragem de Variaveis"
   ]
  },
  {
   "cell_type": "code",
   "execution_count": 11,
   "id": "3b5f6f4b",
   "metadata": {
    "ExecuteTime": {
     "end_time": "2022-11-25T00:58:33.797506Z",
     "start_time": "2022-11-25T00:58:33.722531Z"
    },
    "execution": {
     "iopub.execute_input": "2022-11-25T01:04:45.989454Z",
     "iopub.status.busy": "2022-11-25T01:04:45.988454Z",
     "iopub.status.idle": "2022-11-25T01:04:46.049446Z",
     "shell.execute_reply": "2022-11-25T01:04:46.048446Z"
    },
    "papermill": {
     "duration": 0.074988,
     "end_time": "2022-11-25T01:04:46.051445",
     "exception": false,
     "start_time": "2022-11-25T01:04:45.976457",
     "status": "completed"
    },
    "tags": []
   },
   "outputs": [],
   "source": [
    "df2 = df1.copy()"
   ]
  },
  {
   "cell_type": "code",
   "execution_count": 12,
   "id": "567eeca0",
   "metadata": {
    "ExecuteTime": {
     "end_time": "2022-11-25T00:58:34.110711Z",
     "start_time": "2022-11-25T00:58:33.800506Z"
    },
    "execution": {
     "iopub.execute_input": "2022-11-25T01:04:46.076438Z",
     "iopub.status.busy": "2022-11-25T01:04:46.075438Z",
     "iopub.status.idle": "2022-11-25T01:04:46.378341Z",
     "shell.execute_reply": "2022-11-25T01:04:46.377342Z"
    },
    "papermill": {
     "duration": 0.316898,
     "end_time": "2022-11-25T01:04:46.380340",
     "exception": false,
     "start_time": "2022-11-25T01:04:46.063442",
     "status": "completed"
    },
    "tags": []
   },
   "outputs": [],
   "source": [
    "# ========= Numerical Attributes ==========\n",
    "\n",
    "# Pegando preços unitários maiores que 0.04\n",
    "df2 = df2.loc[ df2['unit_price'] >= 0.04, : ]\n",
    "\n",
    "\n",
    "# ========= Categorical Attributes ==========\n",
    "\n",
    "# Removing Stock Code letters\n",
    "df2 = df2[~df2['stock_code'].isin( ['POST', 'D', 'DOT', 'M', 'S', 'AMAZONFEE', 'm', 'DCGSSBOY', 'DCGSSGIRL', 'PADS', 'B', 'CRUK'] ) ]\n",
    "\n",
    "# Description\n",
    "df2 = df2.drop( columns=['description'], axis=1 )\n",
    "\n",
    "# Map\n",
    "df2 = df2[~df2['country'].isin( [ 'european Community', 'Unpecified' ] ) ]\n",
    "\n",
    "\n",
    "# Bad Users\n",
    "df2 = df2[~df2['customer_id'].isin( [16446] )]\n",
    "\n",
    "\n",
    "# Dividindo datasets em compras e retornos\n",
    "df2_purchases = df2.loc[df2['quantity'] >= 0, :]\n",
    "df2_returns = df2.loc[df2['quantity'] < 0, : ]"
   ]
  },
  {
   "cell_type": "markdown",
   "id": "1cabf34c",
   "metadata": {
    "papermill": {
     "duration": 0.011997,
     "end_time": "2022-11-25T01:04:46.404333",
     "exception": false,
     "start_time": "2022-11-25T01:04:46.392336",
     "status": "completed"
    },
    "tags": []
   },
   "source": [
    "# 3.0. Feature Engineering"
   ]
  },
  {
   "cell_type": "code",
   "execution_count": 13,
   "id": "f6c09a46",
   "metadata": {
    "ExecuteTime": {
     "end_time": "2022-11-25T00:58:34.142712Z",
     "start_time": "2022-11-25T00:58:34.113709Z"
    },
    "execution": {
     "iopub.execute_input": "2022-11-25T01:04:46.429325Z",
     "iopub.status.busy": "2022-11-25T01:04:46.428327Z",
     "iopub.status.idle": "2022-11-25T01:04:46.457338Z",
     "shell.execute_reply": "2022-11-25T01:04:46.456336Z"
    },
    "papermill": {
     "duration": 0.044008,
     "end_time": "2022-11-25T01:04:46.459337",
     "exception": false,
     "start_time": "2022-11-25T01:04:46.415329",
     "status": "completed"
    },
    "tags": []
   },
   "outputs": [],
   "source": [
    "df3 = df2.copy()"
   ]
  },
  {
   "cell_type": "markdown",
   "id": "7af98ee2",
   "metadata": {
    "papermill": {
     "duration": 0.011997,
     "end_time": "2022-11-25T01:04:46.483330",
     "exception": false,
     "start_time": "2022-11-25T01:04:46.471333",
     "status": "completed"
    },
    "tags": []
   },
   "source": [
    "## 3.1. Feature Creation"
   ]
  },
  {
   "cell_type": "code",
   "execution_count": 14,
   "id": "68444cad",
   "metadata": {
    "ExecuteTime": {
     "end_time": "2022-11-25T00:58:34.174691Z",
     "start_time": "2022-11-25T00:58:34.144710Z"
    },
    "execution": {
     "iopub.execute_input": "2022-11-25T01:04:46.508322Z",
     "iopub.status.busy": "2022-11-25T01:04:46.507323Z",
     "iopub.status.idle": "2022-11-25T01:04:46.533326Z",
     "shell.execute_reply": "2022-11-25T01:04:46.532327Z"
    },
    "papermill": {
     "duration": 0.040999,
     "end_time": "2022-11-25T01:04:46.535325",
     "exception": false,
     "start_time": "2022-11-25T01:04:46.494326",
     "status": "completed"
    },
    "tags": []
   },
   "outputs": [],
   "source": [
    "# Data reference\n",
    "df_ref = df3.drop( ['invoice_no', 'stock_code', 'quantity', 'invoice_date', 'unit_price', 'country'], axis=1 ).drop_duplicates(ignore_index=True)"
   ]
  },
  {
   "cell_type": "markdown",
   "id": "aecdd634",
   "metadata": {
    "papermill": {
     "duration": 0.011996,
     "end_time": "2022-11-25T01:04:46.559317",
     "exception": false,
     "start_time": "2022-11-25T01:04:46.547321",
     "status": "completed"
    },
    "tags": []
   },
   "source": [
    "### 3.1.1 Gross Revenue"
   ]
  },
  {
   "cell_type": "code",
   "execution_count": 15,
   "id": "7808e028",
   "metadata": {
    "ExecuteTime": {
     "end_time": "2022-11-25T00:58:34.440250Z",
     "start_time": "2022-11-25T00:58:34.373270Z"
    },
    "execution": {
     "iopub.execute_input": "2022-11-25T01:04:46.584310Z",
     "iopub.status.busy": "2022-11-25T01:04:46.584310Z",
     "iopub.status.idle": "2022-11-25T01:04:46.642306Z",
     "shell.execute_reply": "2022-11-25T01:04:46.641306Z"
    },
    "papermill": {
     "duration": 0.072991,
     "end_time": "2022-11-25T01:04:46.644304",
     "exception": false,
     "start_time": "2022-11-25T01:04:46.571313",
     "status": "completed"
    },
    "scrolled": true,
    "tags": []
   },
   "outputs": [
    {
     "name": "stderr",
     "output_type": "stream",
     "text": [
      "C:\\Users\\Pedro\\AppData\\Local\\Temp\\ipykernel_12760\\4106628865.py:2: SettingWithCopyWarning: \n",
      "A value is trying to be set on a copy of a slice from a DataFrame.\n",
      "Try using .loc[row_indexer,col_indexer] = value instead\n",
      "\n",
      "See the caveats in the documentation: https://pandas.pydata.org/pandas-docs/stable/user_guide/indexing.html#returning-a-view-versus-a-copy\n",
      "  df2_purchases.loc[:, 'gross_revenue'] = df2_purchases.loc[:, 'quantity'] * df2_purchases.loc[:, 'unit_price']\n"
     ]
    },
    {
     "data": {
      "text/plain": [
       "customer_id       0\n",
       "gross_revenue    91\n",
       "dtype: int64"
      ]
     },
     "execution_count": 15,
     "metadata": {},
     "output_type": "execute_result"
    }
   ],
   "source": [
    "# Gross Revenue (Faturamento) quantity * price\n",
    "df2_purchases.loc[:, 'gross_revenue'] = df2_purchases.loc[:, 'quantity'] * df2_purchases.loc[:, 'unit_price']\n",
    "\n",
    "# Monetary\n",
    "df_monetary = df2_purchases.loc[:, ['customer_id', 'gross_revenue']].groupby('customer_id').sum().reset_index()\n",
    "df_ref = pd.merge( df_ref, df_monetary, on='customer_id', how='left' )\n",
    "df_ref.isna().sum()"
   ]
  },
  {
   "cell_type": "markdown",
   "id": "28c1998b",
   "metadata": {
    "papermill": {
     "duration": 0.011996,
     "end_time": "2022-11-25T01:04:46.668297",
     "exception": false,
     "start_time": "2022-11-25T01:04:46.656301",
     "status": "completed"
    },
    "tags": []
   },
   "source": [
    "### 3.1.2 Recency - Days from last purchase"
   ]
  },
  {
   "cell_type": "code",
   "execution_count": 16,
   "id": "0df9ecde",
   "metadata": {
    "ExecuteTime": {
     "end_time": "2022-11-25T00:58:35.058598Z",
     "start_time": "2022-11-25T00:58:34.998617Z"
    },
    "execution": {
     "iopub.execute_input": "2022-11-25T01:04:46.694288Z",
     "iopub.status.busy": "2022-11-25T01:04:46.693290Z",
     "iopub.status.idle": "2022-11-25T01:04:46.751288Z",
     "shell.execute_reply": "2022-11-25T01:04:46.750285Z"
    },
    "papermill": {
     "duration": 0.072993,
     "end_time": "2022-11-25T01:04:46.753286",
     "exception": false,
     "start_time": "2022-11-25T01:04:46.680293",
     "status": "completed"
    },
    "tags": []
   },
   "outputs": [
    {
     "data": {
      "text/plain": [
       "customer_id       0\n",
       "gross_revenue    91\n",
       "recency_days     91\n",
       "dtype: int64"
      ]
     },
     "execution_count": 16,
     "metadata": {},
     "output_type": "execute_result"
    }
   ],
   "source": [
    "# Recency - Last Day Purchase\n",
    "df_recency = df2_purchases.loc[:, ['customer_id', 'invoice_date']].groupby('customer_id').max().reset_index()\n",
    "df_recency['recency_days'] = ( df3['invoice_date'].max() - df_recency['invoice_date'] ).dt.days\n",
    "df_recency = df_recency[['customer_id', 'recency_days']].copy()\n",
    "df_ref = pd.merge( df_ref, df_recency, on='customer_id', how='left' )\n",
    "df_ref.isna().sum()"
   ]
  },
  {
   "cell_type": "markdown",
   "id": "77085876",
   "metadata": {
    "papermill": {
     "duration": 0.013996,
     "end_time": "2022-11-25T01:04:46.779279",
     "exception": false,
     "start_time": "2022-11-25T01:04:46.765283",
     "status": "completed"
    },
    "tags": []
   },
   "source": [
    "### 3.1.3 Quantity of products purchased (variety)"
   ]
  },
  {
   "cell_type": "code",
   "execution_count": 17,
   "id": "9957e979",
   "metadata": {
    "ExecuteTime": {
     "end_time": "2022-11-25T00:58:35.704997Z",
     "start_time": "2022-11-25T00:58:35.574041Z"
    },
    "execution": {
     "iopub.execute_input": "2022-11-25T01:04:46.807269Z",
     "iopub.status.busy": "2022-11-25T01:04:46.806269Z",
     "iopub.status.idle": "2022-11-25T01:04:46.940247Z",
     "shell.execute_reply": "2022-11-25T01:04:46.939245Z"
    },
    "papermill": {
     "duration": 0.150973,
     "end_time": "2022-11-25T01:04:46.942247",
     "exception": false,
     "start_time": "2022-11-25T01:04:46.791274",
     "status": "completed"
    },
    "tags": []
   },
   "outputs": [
    {
     "data": {
      "text/plain": [
       "customer_id       0\n",
       "gross_revenue    91\n",
       "recency_days     91\n",
       "qnt_products     91\n",
       "dtype: int64"
      ]
     },
     "execution_count": 17,
     "metadata": {},
     "output_type": "execute_result"
    }
   ],
   "source": [
    "df_stock = df2_purchases.loc[:, ['customer_id', 'stock_code']].groupby('customer_id').count().reset_index().rename(columns={'stock_code':'qnt_products'})\n",
    "df_ref = pd.merge( df_ref, df_stock, on='customer_id', how='left' )\n",
    "df_ref.isna().sum()"
   ]
  },
  {
   "cell_type": "markdown",
   "id": "0882befb",
   "metadata": {
    "papermill": {
     "duration": 0.012995,
     "end_time": "2022-11-25T01:04:46.968238",
     "exception": false,
     "start_time": "2022-11-25T01:04:46.955243",
     "status": "completed"
    },
    "tags": []
   },
   "source": [
    "### 3.1.4 Frequency Purchase"
   ]
  },
  {
   "cell_type": "code",
   "execution_count": 18,
   "id": "f7c447ae",
   "metadata": {
    "ExecuteTime": {
     "end_time": "2022-11-25T00:58:37.673357Z",
     "start_time": "2022-11-25T00:58:36.101860Z"
    },
    "execution": {
     "iopub.execute_input": "2022-11-25T01:04:46.994229Z",
     "iopub.status.busy": "2022-11-25T01:04:46.993231Z",
     "iopub.status.idle": "2022-11-25T01:04:48.534737Z",
     "shell.execute_reply": "2022-11-25T01:04:48.533738Z"
    },
    "papermill": {
     "duration": 1.556502,
     "end_time": "2022-11-25T01:04:48.536736",
     "exception": false,
     "start_time": "2022-11-25T01:04:46.980234",
     "status": "completed"
    },
    "tags": []
   },
   "outputs": [
    {
     "data": {
      "text/plain": [
       "customer_id       0\n",
       "gross_revenue    91\n",
       "recency_days     91\n",
       "qnt_products     91\n",
       "frequency        91\n",
       "dtype: int64"
      ]
     },
     "execution_count": 18,
     "metadata": {},
     "output_type": "execute_result"
    }
   ],
   "source": [
    "df_aux = ( df2_purchases[['customer_id', 'invoice_no', 'invoice_date']].drop_duplicates()\n",
    "                                                             .groupby('customer_id')\n",
    "                                                             .agg( max_ = ( 'invoice_date', 'max' ),\n",
    "                                                                   min_ = ( 'invoice_date', 'min' ),\n",
    "                                                                   days_ = ( 'invoice_date', lambda x: ( ( x.max() - x.min() ).days ) + 1 ),\n",
    "                                                                   buy_ = ( 'invoice_no', 'count') ) ).reset_index()\n",
    "\n",
    "df_aux['frequency'] = df_aux[['buy_', 'days_']].apply( lambda x: x['buy_'] / x['days_'] if x['days_'] != 0 else 0, axis=1 )\n",
    "\n",
    "\n",
    "df_ref = pd.merge( df_ref, df_aux[['customer_id', 'frequency']], on='customer_id', how='left' )\n",
    "\n",
    "df_ref.isna().sum()"
   ]
  },
  {
   "cell_type": "markdown",
   "id": "3c783500",
   "metadata": {
    "papermill": {
     "duration": 0.011996,
     "end_time": "2022-11-25T01:04:48.561728",
     "exception": false,
     "start_time": "2022-11-25T01:04:48.549732",
     "status": "completed"
    },
    "tags": []
   },
   "source": [
    "### 3.1.5 Number of Returns"
   ]
  },
  {
   "cell_type": "code",
   "execution_count": 19,
   "id": "09e2d373",
   "metadata": {
    "ExecuteTime": {
     "end_time": "2022-11-25T00:58:37.705347Z",
     "start_time": "2022-11-25T00:58:37.676356Z"
    },
    "execution": {
     "iopub.execute_input": "2022-11-25T01:04:48.588720Z",
     "iopub.status.busy": "2022-11-25T01:04:48.588720Z",
     "iopub.status.idle": "2022-11-25T01:04:48.613724Z",
     "shell.execute_reply": "2022-11-25T01:04:48.612725Z"
    },
    "papermill": {
     "duration": 0.040999,
     "end_time": "2022-11-25T01:04:48.615723",
     "exception": false,
     "start_time": "2022-11-25T01:04:48.574724",
     "status": "completed"
    },
    "tags": []
   },
   "outputs": [
    {
     "data": {
      "text/plain": [
       "customer_id       0\n",
       "gross_revenue    91\n",
       "recency_days     91\n",
       "qnt_products     91\n",
       "frequency        91\n",
       "qnt_returns       0\n",
       "dtype: int64"
      ]
     },
     "execution_count": 19,
     "metadata": {},
     "output_type": "execute_result"
    }
   ],
   "source": [
    "df_returns = df2_returns[['customer_id', 'quantity']].groupby( 'customer_id' ).sum().reset_index().rename(columns={'quantity': 'qnt_returns'})\n",
    "df_returns['qnt_returns'] = df_returns['qnt_returns'] * -1\n",
    "\n",
    "df_ref = pd.merge( df_ref, df_returns, how='left', on='customer_id' )\n",
    "df_ref.loc[df_ref['qnt_returns'].isna(), 'qnt_returns'] = 0\n",
    "df_ref.isna().sum()"
   ]
  },
  {
   "cell_type": "markdown",
   "id": "3cb96e68",
   "metadata": {
    "papermill": {
     "duration": 0.012996,
     "end_time": "2022-11-25T01:04:48.640715",
     "exception": false,
     "start_time": "2022-11-25T01:04:48.627719",
     "status": "completed"
    },
    "tags": []
   },
   "source": [
    "# 4.0 Exploration Data Analysis"
   ]
  },
  {
   "cell_type": "code",
   "execution_count": 20,
   "id": "24a8ad8f",
   "metadata": {
    "ExecuteTime": {
     "end_time": "2022-11-25T00:58:39.108386Z",
     "start_time": "2022-11-25T00:58:39.094391Z"
    },
    "execution": {
     "iopub.execute_input": "2022-11-25T01:04:48.668706Z",
     "iopub.status.busy": "2022-11-25T01:04:48.667707Z",
     "iopub.status.idle": "2022-11-25T01:04:48.676715Z",
     "shell.execute_reply": "2022-11-25T01:04:48.675712Z"
    },
    "papermill": {
     "duration": 0.025002,
     "end_time": "2022-11-25T01:04:48.678713",
     "exception": false,
     "start_time": "2022-11-25T01:04:48.653711",
     "status": "completed"
    },
    "tags": []
   },
   "outputs": [],
   "source": [
    "df4 = df_ref.dropna().copy()"
   ]
  },
  {
   "cell_type": "markdown",
   "id": "3613e5a7",
   "metadata": {
    "papermill": {
     "duration": 0.012997,
     "end_time": "2022-11-25T01:04:48.704706",
     "exception": false,
     "start_time": "2022-11-25T01:04:48.691709",
     "status": "completed"
    },
    "tags": []
   },
   "source": [
    "## 4.3. Estudo do Espaço"
   ]
  },
  {
   "cell_type": "code",
   "execution_count": 21,
   "id": "f02762fb",
   "metadata": {
    "ExecuteTime": {
     "end_time": "2022-11-25T00:58:39.773794Z",
     "start_time": "2022-11-25T00:58:39.765796Z"
    },
    "execution": {
     "iopub.execute_input": "2022-11-25T01:04:48.730698Z",
     "iopub.status.busy": "2022-11-25T01:04:48.730698Z",
     "iopub.status.idle": "2022-11-25T01:04:48.737706Z",
     "shell.execute_reply": "2022-11-25T01:04:48.736706Z"
    },
    "papermill": {
     "duration": 0.023004,
     "end_time": "2022-11-25T01:04:48.739705",
     "exception": false,
     "start_time": "2022-11-25T01:04:48.716701",
     "status": "completed"
    },
    "tags": []
   },
   "outputs": [],
   "source": [
    "# Selected Features\n",
    "df43 = df4.drop( columns='customer_id', axis=1 )"
   ]
  },
  {
   "cell_type": "code",
   "execution_count": 22,
   "id": "4c9b56ca",
   "metadata": {
    "ExecuteTime": {
     "end_time": "2022-11-25T00:58:40.227782Z",
     "start_time": "2022-11-25T00:58:40.190779Z"
    },
    "execution": {
     "iopub.execute_input": "2022-11-25T01:04:48.766696Z",
     "iopub.status.busy": "2022-11-25T01:04:48.765697Z",
     "iopub.status.idle": "2022-11-25T01:04:48.800718Z",
     "shell.execute_reply": "2022-11-25T01:04:48.799718Z"
    },
    "papermill": {
     "duration": 0.051015,
     "end_time": "2022-11-25T01:04:48.802716",
     "exception": false,
     "start_time": "2022-11-25T01:04:48.751701",
     "status": "completed"
    },
    "tags": []
   },
   "outputs": [],
   "source": [
    "mm = pp.MinMaxScaler()\n",
    "\n",
    "df43['gross_revenue']          = mm.fit_transform( df43[['gross_revenue']] )\n",
    "df43['recency_days']           = mm.fit_transform( df43[['recency_days']] )\n",
    "df43['qnt_products']           = mm.fit_transform( df43[['qnt_products']] )\n",
    "df43['frequency']              = mm.fit_transform( df43[['frequency']] )\n",
    "df43['qnt_returns']            = mm.fit_transform( df43[['qnt_returns']] )\n",
    "\n",
    "X = df43.copy()"
   ]
  },
  {
   "cell_type": "markdown",
   "id": "c6f4d0b2",
   "metadata": {
    "papermill": {
     "duration": 0.012996,
     "end_time": "2022-11-25T01:04:48.829708",
     "exception": false,
     "start_time": "2022-11-25T01:04:48.816712",
     "status": "completed"
    },
    "tags": []
   },
   "source": [
    "### UMAP"
   ]
  },
  {
   "cell_type": "code",
   "execution_count": 23,
   "id": "c3a1da13",
   "metadata": {
    "ExecuteTime": {
     "end_time": "2022-11-25T00:59:20.362182Z",
     "start_time": "2022-11-25T00:58:41.118734Z"
    },
    "execution": {
     "iopub.execute_input": "2022-11-25T01:04:48.856700Z",
     "iopub.status.busy": "2022-11-25T01:04:48.855700Z",
     "iopub.status.idle": "2022-11-25T01:05:28.643974Z",
     "shell.execute_reply": "2022-11-25T01:05:28.642975Z"
    },
    "papermill": {
     "duration": 39.804269,
     "end_time": "2022-11-25T01:05:28.645973",
     "exception": false,
     "start_time": "2022-11-25T01:04:48.841704",
     "status": "completed"
    },
    "tags": []
   },
   "outputs": [],
   "source": [
    "reducer = umap.UMAP( random_state=42 )\n",
    "embedding = reducer.fit_transform( X )\n",
    "\n",
    "# Embedding\n",
    "df_umap = pd.DataFrame()\n",
    "df_umap['embedding_x'] = embedding[:, 0]\n",
    "df_umap['embedding_y'] = embedding[:, 1]\n"
   ]
  },
  {
   "cell_type": "markdown",
   "id": "513aab58",
   "metadata": {
    "papermill": {
     "duration": 0.013996,
     "end_time": "2022-11-25T01:05:28.673965",
     "exception": false,
     "start_time": "2022-11-25T01:05:28.659969",
     "status": "completed"
    },
    "tags": []
   },
   "source": [
    "# 7.0. Hyper Parameter Fine Tuning"
   ]
  },
  {
   "cell_type": "code",
   "execution_count": 24,
   "id": "d715f5bf",
   "metadata": {
    "ExecuteTime": {
     "end_time": "2022-11-25T00:59:20.378176Z",
     "start_time": "2022-11-25T00:59:20.365181Z"
    },
    "execution": {
     "iopub.execute_input": "2022-11-25T01:05:28.701955Z",
     "iopub.status.busy": "2022-11-25T01:05:28.700956Z",
     "iopub.status.idle": "2022-11-25T01:05:28.705955Z",
     "shell.execute_reply": "2022-11-25T01:05:28.705955Z"
    },
    "papermill": {
     "duration": 0.020994,
     "end_time": "2022-11-25T01:05:28.707954",
     "exception": false,
     "start_time": "2022-11-25T01:05:28.686960",
     "status": "completed"
    },
    "tags": []
   },
   "outputs": [],
   "source": [
    "X = df_umap.copy()"
   ]
  },
  {
   "cell_type": "markdown",
   "id": "7571f885",
   "metadata": {
    "papermill": {
     "duration": 0.012997,
     "end_time": "2022-11-25T01:05:28.733946",
     "exception": false,
     "start_time": "2022-11-25T01:05:28.720949",
     "status": "completed"
    },
    "tags": []
   },
   "source": [
    "# 8.0 Model Training"
   ]
  },
  {
   "cell_type": "markdown",
   "id": "43b99198",
   "metadata": {
    "papermill": {
     "duration": 0.012996,
     "end_time": "2022-11-25T01:05:28.759937",
     "exception": false,
     "start_time": "2022-11-25T01:05:28.746941",
     "status": "completed"
    },
    "tags": []
   },
   "source": [
    "## 8.1. GMM"
   ]
  },
  {
   "cell_type": "code",
   "execution_count": 25,
   "id": "f360cdb4",
   "metadata": {
    "ExecuteTime": {
     "end_time": "2022-11-25T01:00:22.828351Z",
     "start_time": "2022-11-25T00:59:29.399432Z"
    },
    "execution": {
     "iopub.execute_input": "2022-11-25T01:05:28.786929Z",
     "iopub.status.busy": "2022-11-25T01:05:28.786929Z",
     "iopub.status.idle": "2022-11-25T01:06:21.847963Z",
     "shell.execute_reply": "2022-11-25T01:06:21.846963Z"
    },
    "papermill": {
     "duration": 53.078029,
     "end_time": "2022-11-25T01:06:21.849962",
     "exception": false,
     "start_time": "2022-11-25T01:05:28.771933",
     "status": "completed"
    },
    "tags": []
   },
   "outputs": [],
   "source": [
    "k = 12\n",
    "\n",
    "# Model Definition\n",
    "gmm_model = mx.GaussianMixture( n_components=k, n_init=300, random_state=42 )\n",
    "\n",
    "# Model Training\n",
    "gmm_model.fit( X )\n",
    "\n",
    "# Model Prediction\n",
    "labels = gmm_model.predict( X )"
   ]
  },
  {
   "cell_type": "markdown",
   "id": "ca7f0b3f",
   "metadata": {
    "papermill": {
     "duration": 0.012995,
     "end_time": "2022-11-25T01:06:21.876953",
     "exception": false,
     "start_time": "2022-11-25T01:06:21.863958",
     "status": "completed"
    },
    "tags": []
   },
   "source": [
    "## Cluster Validation"
   ]
  },
  {
   "cell_type": "code",
   "execution_count": 26,
   "id": "9f899a63",
   "metadata": {
    "ExecuteTime": {
     "end_time": "2022-11-25T01:00:23.564116Z",
     "start_time": "2022-11-25T01:00:22.831350Z"
    },
    "execution": {
     "iopub.execute_input": "2022-11-25T01:06:21.904945Z",
     "iopub.status.busy": "2022-11-25T01:06:21.903945Z",
     "iopub.status.idle": "2022-11-25T01:06:22.628725Z",
     "shell.execute_reply": "2022-11-25T01:06:22.627725Z"
    },
    "papermill": {
     "duration": 0.740776,
     "end_time": "2022-11-25T01:06:22.630725",
     "exception": false,
     "start_time": "2022-11-25T01:06:21.889949",
     "status": "completed"
    },
    "tags": []
   },
   "outputs": [
    {
     "name": "stdout",
     "output_type": "stream",
     "text": [
      "SS Value: 0.48913970589637756\n"
     ]
    }
   ],
   "source": [
    "# SS (Silhouette Score)\n",
    "print('SS Value: {}'.format(m.silhouette_score( X, labels, metric='euclidean' ) ) )"
   ]
  },
  {
   "cell_type": "markdown",
   "id": "ed0ab14c",
   "metadata": {
    "papermill": {
     "duration": 0.012995,
     "end_time": "2022-11-25T01:06:22.657715",
     "exception": false,
     "start_time": "2022-11-25T01:06:22.644720",
     "status": "completed"
    },
    "tags": []
   },
   "source": [
    "# 9.0 Cluster Analyses"
   ]
  },
  {
   "cell_type": "code",
   "execution_count": 27,
   "id": "cfc2631a",
   "metadata": {
    "ExecuteTime": {
     "end_time": "2022-11-25T01:00:23.579111Z",
     "start_time": "2022-11-25T01:00:23.566114Z"
    },
    "execution": {
     "iopub.execute_input": "2022-11-25T01:06:22.685707Z",
     "iopub.status.busy": "2022-11-25T01:06:22.685707Z",
     "iopub.status.idle": "2022-11-25T01:06:22.692548Z",
     "shell.execute_reply": "2022-11-25T01:06:22.691544Z"
    },
    "papermill": {
     "duration": 0.023836,
     "end_time": "2022-11-25T01:06:22.694547",
     "exception": false,
     "start_time": "2022-11-25T01:06:22.670711",
     "status": "completed"
    },
    "tags": []
   },
   "outputs": [],
   "source": [
    "df9 = X.copy()\n",
    "df9['clusters'] = labels"
   ]
  },
  {
   "cell_type": "markdown",
   "id": "804fa7e0",
   "metadata": {
    "papermill": {
     "duration": 0.012996,
     "end_time": "2022-11-25T01:06:22.720538",
     "exception": false,
     "start_time": "2022-11-25T01:06:22.707542",
     "status": "completed"
    },
    "tags": []
   },
   "source": [
    "## 9.4. Cluster Profile"
   ]
  },
  {
   "cell_type": "code",
   "execution_count": 28,
   "id": "21ec35fa",
   "metadata": {
    "ExecuteTime": {
     "end_time": "2022-11-25T01:00:23.594106Z",
     "start_time": "2022-11-25T01:00:23.583109Z"
    },
    "execution": {
     "iopub.execute_input": "2022-11-25T01:06:22.748530Z",
     "iopub.status.busy": "2022-11-25T01:06:22.748530Z",
     "iopub.status.idle": "2022-11-25T01:06:22.769547Z",
     "shell.execute_reply": "2022-11-25T01:06:22.768546Z"
    },
    "papermill": {
     "duration": 0.03801,
     "end_time": "2022-11-25T01:06:22.771544",
     "exception": false,
     "start_time": "2022-11-25T01:06:22.733534",
     "status": "completed"
    },
    "tags": []
   },
   "outputs": [],
   "source": [
    "df92 = df4.copy()\n",
    "df92['clusters'] = labels\n",
    "\n",
    "\n",
    "df92['recency_days'] = df92['recency_days'].astype( np.int64 )\n",
    "df92['qnt_products'] = df92['qnt_products'].astype( np.int64 )\n",
    "df92['qnt_returns'] = df92['qnt_returns'].astype( np.int64 )"
   ]
  },
  {
   "cell_type": "code",
   "execution_count": 29,
   "id": "2bd4d4af",
   "metadata": {
    "ExecuteTime": {
     "end_time": "2022-11-25T01:00:23.658085Z",
     "start_time": "2022-11-25T01:00:23.597105Z"
    },
    "execution": {
     "iopub.execute_input": "2022-11-25T01:06:22.800536Z",
     "iopub.status.busy": "2022-11-25T01:06:22.799536Z",
     "iopub.status.idle": "2022-11-25T01:06:22.863517Z",
     "shell.execute_reply": "2022-11-25T01:06:22.862515Z"
    },
    "papermill": {
     "duration": 0.079975,
     "end_time": "2022-11-25T01:06:22.865515",
     "exception": false,
     "start_time": "2022-11-25T01:06:22.785540",
     "status": "completed"
    },
    "tags": []
   },
   "outputs": [
    {
     "data": {
      "text/html": [
       "<div>\n",
       "<style scoped>\n",
       "    .dataframe tbody tr th:only-of-type {\n",
       "        vertical-align: middle;\n",
       "    }\n",
       "\n",
       "    .dataframe tbody tr th {\n",
       "        vertical-align: top;\n",
       "    }\n",
       "\n",
       "    .dataframe thead th {\n",
       "        text-align: right;\n",
       "    }\n",
       "</style>\n",
       "<table border=\"1\" class=\"dataframe\">\n",
       "  <thead>\n",
       "    <tr style=\"text-align: right;\">\n",
       "      <th></th>\n",
       "      <th>clusters</th>\n",
       "      <th>qnt_customers</th>\n",
       "      <th>perc_customer</th>\n",
       "      <th>gross_revenue</th>\n",
       "      <th>recency_days</th>\n",
       "      <th>qnt_products</th>\n",
       "      <th>frequency</th>\n",
       "      <th>qnt_returns</th>\n",
       "    </tr>\n",
       "  </thead>\n",
       "  <tbody>\n",
       "    <tr>\n",
       "      <th>0</th>\n",
       "      <td>0</td>\n",
       "      <td>542</td>\n",
       "      <td>9.500438</td>\n",
       "      <td>553.885018</td>\n",
       "      <td>189.020295</td>\n",
       "      <td>39.391144</td>\n",
       "      <td>1.022140</td>\n",
       "      <td>1.916974</td>\n",
       "    </tr>\n",
       "    <tr>\n",
       "      <th>1</th>\n",
       "      <td>1</td>\n",
       "      <td>865</td>\n",
       "      <td>15.162138</td>\n",
       "      <td>1680.522486</td>\n",
       "      <td>27.142197</td>\n",
       "      <td>95.512139</td>\n",
       "      <td>0.032237</td>\n",
       "      <td>15.810405</td>\n",
       "    </tr>\n",
       "    <tr>\n",
       "      <th>2</th>\n",
       "      <td>2</td>\n",
       "      <td>530</td>\n",
       "      <td>9.290096</td>\n",
       "      <td>1043.876094</td>\n",
       "      <td>112.741509</td>\n",
       "      <td>73.756604</td>\n",
       "      <td>0.567410</td>\n",
       "      <td>3.262264</td>\n",
       "    </tr>\n",
       "    <tr>\n",
       "      <th>3</th>\n",
       "      <td>3</td>\n",
       "      <td>183</td>\n",
       "      <td>3.207713</td>\n",
       "      <td>457.049126</td>\n",
       "      <td>37.344262</td>\n",
       "      <td>29.087432</td>\n",
       "      <td>1.002732</td>\n",
       "      <td>1.371585</td>\n",
       "    </tr>\n",
       "    <tr>\n",
       "      <th>4</th>\n",
       "      <td>4</td>\n",
       "      <td>881</td>\n",
       "      <td>15.442594</td>\n",
       "      <td>5959.548820</td>\n",
       "      <td>6.360953</td>\n",
       "      <td>240.113507</td>\n",
       "      <td>0.049229</td>\n",
       "      <td>70.936436</td>\n",
       "    </tr>\n",
       "    <tr>\n",
       "      <th>5</th>\n",
       "      <td>5</td>\n",
       "      <td>277</td>\n",
       "      <td>4.855390</td>\n",
       "      <td>906.624801</td>\n",
       "      <td>361.902527</td>\n",
       "      <td>65.126354</td>\n",
       "      <td>1.051507</td>\n",
       "      <td>2.472924</td>\n",
       "    </tr>\n",
       "    <tr>\n",
       "      <th>6</th>\n",
       "      <td>6</td>\n",
       "      <td>391</td>\n",
       "      <td>6.853637</td>\n",
       "      <td>520.468721</td>\n",
       "      <td>253.787724</td>\n",
       "      <td>40.276215</td>\n",
       "      <td>1.051151</td>\n",
       "      <td>1.488491</td>\n",
       "    </tr>\n",
       "    <tr>\n",
       "      <th>7</th>\n",
       "      <td>7</td>\n",
       "      <td>524</td>\n",
       "      <td>9.184926</td>\n",
       "      <td>941.134427</td>\n",
       "      <td>169.811069</td>\n",
       "      <td>51.727099</td>\n",
       "      <td>0.257886</td>\n",
       "      <td>30.019084</td>\n",
       "    </tr>\n",
       "    <tr>\n",
       "      <th>8</th>\n",
       "      <td>8</td>\n",
       "      <td>227</td>\n",
       "      <td>3.978966</td>\n",
       "      <td>2099.911762</td>\n",
       "      <td>48.207048</td>\n",
       "      <td>164.167401</td>\n",
       "      <td>0.187853</td>\n",
       "      <td>10.132159</td>\n",
       "    </tr>\n",
       "    <tr>\n",
       "      <th>9</th>\n",
       "      <td>9</td>\n",
       "      <td>581</td>\n",
       "      <td>10.184049</td>\n",
       "      <td>907.195491</td>\n",
       "      <td>63.234079</td>\n",
       "      <td>56.981067</td>\n",
       "      <td>0.777017</td>\n",
       "      <td>7.449225</td>\n",
       "    </tr>\n",
       "    <tr>\n",
       "      <th>10</th>\n",
       "      <td>10</td>\n",
       "      <td>407</td>\n",
       "      <td>7.134093</td>\n",
       "      <td>820.329656</td>\n",
       "      <td>307.574939</td>\n",
       "      <td>64.203931</td>\n",
       "      <td>1.014742</td>\n",
       "      <td>184.031941</td>\n",
       "    </tr>\n",
       "    <tr>\n",
       "      <th>11</th>\n",
       "      <td>11</td>\n",
       "      <td>297</td>\n",
       "      <td>5.205960</td>\n",
       "      <td>619.614242</td>\n",
       "      <td>14.818182</td>\n",
       "      <td>35.676768</td>\n",
       "      <td>0.997755</td>\n",
       "      <td>1.208754</td>\n",
       "    </tr>\n",
       "  </tbody>\n",
       "</table>\n",
       "</div>"
      ],
      "text/plain": [
       "    clusters  qnt_customers  perc_customer  gross_revenue  recency_days  \\\n",
       "0          0            542       9.500438     553.885018    189.020295   \n",
       "1          1            865      15.162138    1680.522486     27.142197   \n",
       "2          2            530       9.290096    1043.876094    112.741509   \n",
       "3          3            183       3.207713     457.049126     37.344262   \n",
       "4          4            881      15.442594    5959.548820      6.360953   \n",
       "5          5            277       4.855390     906.624801    361.902527   \n",
       "6          6            391       6.853637     520.468721    253.787724   \n",
       "7          7            524       9.184926     941.134427    169.811069   \n",
       "8          8            227       3.978966    2099.911762     48.207048   \n",
       "9          9            581      10.184049     907.195491     63.234079   \n",
       "10        10            407       7.134093     820.329656    307.574939   \n",
       "11        11            297       5.205960     619.614242     14.818182   \n",
       "\n",
       "    qnt_products  frequency  qnt_returns  \n",
       "0      39.391144   1.022140     1.916974  \n",
       "1      95.512139   0.032237    15.810405  \n",
       "2      73.756604   0.567410     3.262264  \n",
       "3      29.087432   1.002732     1.371585  \n",
       "4     240.113507   0.049229    70.936436  \n",
       "5      65.126354   1.051507     2.472924  \n",
       "6      40.276215   1.051151     1.488491  \n",
       "7      51.727099   0.257886    30.019084  \n",
       "8     164.167401   0.187853    10.132159  \n",
       "9      56.981067   0.777017     7.449225  \n",
       "10     64.203931   1.014742   184.031941  \n",
       "11     35.676768   0.997755     1.208754  "
      ]
     },
     "execution_count": 29,
     "metadata": {},
     "output_type": "execute_result"
    }
   ],
   "source": [
    "# Numbers of Customers\n",
    "df_cluster = df92[['clusters', 'customer_id']].groupby('clusters').count().reset_index().rename(columns={'customer_id': 'qnt_customers'})\n",
    "df_cluster['perc_customer'] = 100 * ( df_cluster['qnt_customers'] / df_cluster['qnt_customers'].sum() )\n",
    "\n",
    "# Avg Gross Revenue\n",
    "df_avg_gross_revenue = df92[['clusters', 'gross_revenue']].groupby( 'clusters' ).mean().reset_index()\n",
    "df_cluster = pd.merge( df_cluster, df_avg_gross_revenue, on='clusters', how='inner' )\n",
    "\n",
    "# Avg Recency Days\n",
    "df_avg_recency_days = df92[['clusters', 'recency_days']].groupby( 'clusters' ).mean().reset_index()\n",
    "df_cluster = pd.merge( df_cluster, df_avg_recency_days, on='clusters', how='inner' )\n",
    "\n",
    "# Avg Invoice_no\n",
    "df_avg_products = df92[['clusters', 'qnt_products']].groupby( 'clusters' ).mean().reset_index()\n",
    "df_cluster = pd.merge( df_cluster, df_avg_products, on='clusters', how='inner' )\n",
    "\n",
    "# Frequecy\n",
    "df_frequency = df92[['clusters', 'frequency']].groupby('clusters').mean().reset_index()\n",
    "df_cluster = pd.merge( df_cluster, df_frequency, on='clusters', how='inner' )\n",
    "\n",
    "# qnt_returns\n",
    "df_returns = df92[['clusters', 'qnt_returns']].groupby('clusters').mean().reset_index()\n",
    "df_cluster = pd.merge( df_cluster, df_returns, on='clusters', how='inner' )\n",
    "\n",
    "df_cluster"
   ]
  },
  {
   "cell_type": "markdown",
   "id": "b024d4cc",
   "metadata": {
    "papermill": {
     "duration": 0.013996,
     "end_time": "2022-11-25T01:06:22.893506",
     "exception": false,
     "start_time": "2022-11-25T01:06:22.879510",
     "status": "completed"
    },
    "tags": []
   },
   "source": [
    "# 11.0 Deploy to Production"
   ]
  },
  {
   "cell_type": "code",
   "execution_count": 30,
   "id": "8f41803c",
   "metadata": {
    "ExecuteTime": {
     "end_time": "2022-11-25T01:00:23.674080Z",
     "start_time": "2022-11-25T01:00:23.660085Z"
    },
    "execution": {
     "iopub.execute_input": "2022-11-25T01:06:22.922497Z",
     "iopub.status.busy": "2022-11-25T01:06:22.922497Z",
     "iopub.status.idle": "2022-11-25T01:06:22.940512Z",
     "shell.execute_reply": "2022-11-25T01:06:22.939508Z"
    },
    "papermill": {
     "duration": 0.035008,
     "end_time": "2022-11-25T01:06:22.942509",
     "exception": false,
     "start_time": "2022-11-25T01:06:22.907501",
     "status": "completed"
    },
    "tags": []
   },
   "outputs": [],
   "source": [
    "# df92.dtypes"
   ]
  },
  {
   "cell_type": "code",
   "execution_count": 31,
   "id": "5aff9a63",
   "metadata": {
    "ExecuteTime": {
     "end_time": "2022-11-25T01:00:23.704070Z",
     "start_time": "2022-11-25T01:00:23.676080Z"
    },
    "execution": {
     "iopub.execute_input": "2022-11-25T01:06:22.971501Z",
     "iopub.status.busy": "2022-11-25T01:06:22.970501Z",
     "iopub.status.idle": "2022-11-25T01:06:22.987509Z",
     "shell.execute_reply": "2022-11-25T01:06:22.986509Z"
    },
    "papermill": {
     "duration": 0.034002,
     "end_time": "2022-11-25T01:06:22.989507",
     "exception": false,
     "start_time": "2022-11-25T01:06:22.955505",
     "status": "completed"
    },
    "tags": []
   },
   "outputs": [],
   "source": [
    "# Database Connection\n",
    "# conn = create_engine( 'sqlite:///insiders_db.sqlite' )\n",
    "\n",
    "# Drop Table\n",
    "#query_drop_insiders = \"\"\"\n",
    "#    DROP TABLE insiders\n",
    "#\"\"\"\n",
    "\n",
    "# Crate table\n",
    "#query_create_table = \"\"\"\n",
    "#    CREATE TABLE insiders(\n",
    "#        customer_id   INTEGER,\n",
    "#        gross_revenue REAL,\n",
    "#        recency_days  INTEGER,\n",
    "#        qnt_products  INTEGER,\n",
    "#        frequency     REAL,\n",
    "#        qnt_returns   INTEGER,\n",
    "#        clusters      INTEGER\n",
    "#    )\n",
    "#\"\"\"\n",
    "\n",
    "#conn.execute( query_drop_insiders )"
   ]
  },
  {
   "cell_type": "code",
   "execution_count": 32,
   "id": "8b26932c",
   "metadata": {
    "ExecuteTime": {
     "end_time": "2022-11-17T13:49:54.756752Z",
     "start_time": "2022-11-17T13:49:54.659783Z"
    },
    "execution": {
     "iopub.execute_input": "2022-11-25T01:06:23.017498Z",
     "iopub.status.busy": "2022-11-25T01:06:23.017498Z",
     "iopub.status.idle": "2022-11-25T01:06:23.034504Z",
     "shell.execute_reply": "2022-11-25T01:06:23.033504Z"
    },
    "papermill": {
     "duration": 0.034,
     "end_time": "2022-11-25T01:06:23.036503",
     "exception": false,
     "start_time": "2022-11-25T01:06:23.002503",
     "status": "completed"
    },
    "tags": []
   },
   "outputs": [],
   "source": [
    "# insert data into\n",
    "#df92.to_sql( 'insiders', con=conn, if_exists='append', index=False )#"
   ]
  },
  {
   "cell_type": "code",
   "execution_count": 33,
   "id": "ab93ae38",
   "metadata": {
    "ExecuteTime": {
     "end_time": "2022-11-25T01:00:23.750065Z",
     "start_time": "2022-11-25T01:00:23.707070Z"
    },
    "execution": {
     "iopub.execute_input": "2022-11-25T01:06:23.064494Z",
     "iopub.status.busy": "2022-11-25T01:06:23.064494Z",
     "iopub.status.idle": "2022-11-25T01:06:23.081498Z",
     "shell.execute_reply": "2022-11-25T01:06:23.081498Z"
    },
    "papermill": {
     "duration": 0.034,
     "end_time": "2022-11-25T01:06:23.083498",
     "exception": false,
     "start_time": "2022-11-25T01:06:23.049498",
     "status": "completed"
    },
    "tags": []
   },
   "outputs": [],
   "source": [
    "# Get query\n",
    "#query_collect = \"\"\"\n",
    "#    SELECT * FROM insiders\n",
    "#\"\"\"\n",
    "\n",
    "#df = pd.read_sql_query( query_collect, conn )"
   ]
  },
  {
   "cell_type": "code",
   "execution_count": 34,
   "id": "c746b26c",
   "metadata": {
    "ExecuteTime": {
     "end_time": "2022-11-25T01:00:23.766060Z",
     "start_time": "2022-11-25T01:00:23.753064Z"
    },
    "execution": {
     "iopub.execute_input": "2022-11-25T01:06:23.112489Z",
     "iopub.status.busy": "2022-11-25T01:06:23.112489Z",
     "iopub.status.idle": "2022-11-25T01:06:23.130497Z",
     "shell.execute_reply": "2022-11-25T01:06:23.129493Z"
    },
    "papermill": {
     "duration": 0.035004,
     "end_time": "2022-11-25T01:06:23.132496",
     "exception": false,
     "start_time": "2022-11-25T01:06:23.097492",
     "status": "completed"
    },
    "tags": []
   },
   "outputs": [],
   "source": [
    "#df.shape"
   ]
  },
  {
   "cell_type": "code",
   "execution_count": null,
   "id": "bda62813",
   "metadata": {
    "papermill": {
     "duration": 0.013995,
     "end_time": "2022-11-25T01:06:23.159486",
     "exception": false,
     "start_time": "2022-11-25T01:06:23.145491",
     "status": "completed"
    },
    "tags": []
   },
   "outputs": [],
   "source": []
  }
 ],
 "metadata": {
  "kernelspec": {
   "display_name": "Python 3 (ipykernel)",
   "language": "python",
   "name": "python3"
  },
  "language_info": {
   "codemirror_mode": {
    "name": "ipython",
    "version": 3
   },
   "file_extension": ".py",
   "mimetype": "text/x-python",
   "name": "python",
   "nbconvert_exporter": "python",
   "pygments_lexer": "ipython3",
   "version": "3.9.13"
  },
  "papermill": {
   "default_parameters": {},
   "duration": 115.05184,
   "end_time": "2022-11-25T01:06:24.063258",
   "environment_variables": {},
   "exception": null,
   "input_path": "src/models/c9-phc-deploy.ipynb",
   "output_path": "reports/c9-phc-deploy-24-11-2022.ipynb",
   "parameters": {},
   "start_time": "2022-11-25T01:04:29.011418",
   "version": "2.4.0"
  }
 },
 "nbformat": 4,
 "nbformat_minor": 5
}