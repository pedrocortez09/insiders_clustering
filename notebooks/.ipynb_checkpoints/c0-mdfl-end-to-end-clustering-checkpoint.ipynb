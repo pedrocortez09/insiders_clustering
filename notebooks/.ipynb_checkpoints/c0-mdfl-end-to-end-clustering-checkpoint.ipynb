{
 "cells": [
  {
   "cell_type": "markdown",
   "id": "33b03af4",
   "metadata": {},
   "source": [
    "# PA005 - High Value Customer Indetification"
   ]
  },
  {
   "cell_type": "markdown",
   "id": "aa689a0d",
   "metadata": {},
   "source": [
    "## 0.0. Planejamento da Solução"
   ]
  },
  {
   "cell_type": "markdown",
   "id": "f579f98b",
   "metadata": {},
   "source": [
    "### Input - Entrada"
   ]
  },
  {
   "cell_type": "markdown",
   "id": "d88c3a00",
   "metadata": {},
   "source": [
    "1. Problema de Negócio\n",
    "    - Selecionar os clientes mais valiosos para integrar um programa de Fidelização.\n",
    "    \n",
    "2. Conjunto de Dados\n",
    "    - Vendas em um e-commerce online, durante o periodo de um ano."
   ]
  },
  {
   "cell_type": "markdown",
   "id": "7afe1d24",
   "metadata": {},
   "source": [
    "### Output - Saida"
   ]
  },
  {
   "cell_type": "markdown",
   "id": "5e373aa6",
   "metadata": {
    "ExecuteTime": {
     "end_time": "2022-10-30T20:31:06.852593Z",
     "start_time": "2022-10-30T20:31:06.842596Z"
    }
   },
   "source": [
    "1. Indicação das pessoas que farão parte do programa de Insiders\n",
    "    - Lista: \n",
    "            client_id | is_insider |\n",
    "              1023     |     Yes  |\n",
    "              \n",
    "2. Relatório com as perguntas de negócio:\n",
    "    - Quem são as pessoas elegiveis para participar do programa de Insiders?\n",
    "    - Quantos clientes farão parte do grupo?\n",
    "    - Quais as principais caracteristicas dos clientes?\n",
    "    - Qual a porcentagem de contribuição do faturamento vinda dos Insiders?\n",
    "    - Qual a expectativa de faturamento desse grupo para os próximos meses?\n",
    "    - Quais as condições para uma pessoa ser elegivel aos Insiders?\n",
    "    - Quais as condições para uma pessoa ser removida dos Insiders? \n",
    "    - Qual a garantia que o programa Insiders é melhor que o restante da base?\n",
    "    - Quais ações o time de marketing pode realizar para aumentar o faturamento?"
   ]
  },
  {
   "cell_type": "markdown",
   "id": "ccd2d8cc",
   "metadata": {},
   "source": [
    "## Tasks"
   ]
  },
  {
   "cell_type": "markdown",
   "id": "8309f9aa",
   "metadata": {
    "ExecuteTime": {
     "end_time": "2022-10-30T20:37:02.665612Z",
     "start_time": "2022-10-30T20:37:02.643617Z"
    }
   },
   "source": [
    "1. Quem são as pessoas elegiveis para participar do programa de Insiders?\n",
    "    - O que é ser elegivel? \n",
    "    \n",
    "    - O que são clientes de maior valor?\n",
    "        - Faturamento: Alto ticket medio, Alto LTV, Baixa Recencia, Alto Basket Size, Baixa probabilidade de Churn, Alta previsão de LTV, Alta probabilidade de compra.\n",
    "        - Custo: Tem baixa taxa de devolução. \n",
    "        - Experiencia de compra: Média alta das avaliações.\n",
    "        \n",
    "   \n",
    "2. Quantos clientes farão parte do grupo?\n",
    "    - Numero total de clientes\n",
    "    - % do grupo insiders\n",
    "    \n",
    "\n",
    "3. Quais as principais caracteristicas dos clientes?\n",
    "    - Escrever caracteristicas dos clientes: Idade, Localização. \n",
    "    - Caracteristicas do consumo: Atributos da clusterização\n",
    "    \n",
    "\n",
    "4. Qual a porcentagem de contribuição do faturamento vinda dos Insiders?\n",
    "    - Calcula o faturamento total do ano e compara com o faturamento total do grupo.\n",
    "    \n",
    "\n",
    "5. Qual a expectativa de faturamento desse grupo para os próximos meses?\n",
    "    - LTV do grupo Insiders\n",
    "    - Análise de Cohort\n",
    "    \n",
    "    \n",
    "6. Quais as condições para uma pessoa ser elegivel aos Insiders?\n",
    "    - Definir a periodicidade: 3 meses, 6 meses..\n",
    "    - A pessoa precisa ser similar ou parecida com uma pessoa do grupo.\n",
    "    \n",
    "\n",
    "7. Quais as condições para uma pessoa ser removida dos Insiders? \n",
    "    - Definir a periodicidade: 3 meses, 6 meses..\n",
    "    - A pessoa precisa ser disimilar ou parecida com uma pessoa do grupo. \n",
    "    \n",
    "\n",
    "8. Qual a garantia que o programa Insiders é melhor que o restante da base?\n",
    "    - Teste A/B.\n",
    "    - Teste A/B Baysiano\n",
    "    - Teste de Hipóteses.\n",
    "    \n",
    "\n",
    "9. Quais ações o time de marketing pode realizar para aumentar o faturamento?\n",
    "    - Desconto\n",
    "    - Frete\n",
    "    - Preferencia de compra\n",
    "    - Visita a empresa\n"
   ]
  },
  {
   "cell_type": "code",
   "execution_count": null,
   "id": "ddce0255",
   "metadata": {},
   "outputs": [],
   "source": [
    " "
   ]
  }
 ],
 "metadata": {
  "kernelspec": {
   "display_name": "Python 3 (ipykernel)",
   "language": "python",
   "name": "python3"
  },
  "language_info": {
   "codemirror_mode": {
    "name": "ipython",
    "version": 3
   },
   "file_extension": ".py",
   "mimetype": "text/x-python",
   "name": "python",
   "nbconvert_exporter": "python",
   "pygments_lexer": "ipython3",
   "version": "3.9.13"
  }
 },
 "nbformat": 4,
 "nbformat_minor": 5
}
