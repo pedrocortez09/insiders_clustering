{
 "cells": [
  {
   "cell_type": "markdown",
   "id": "33b03af4",
   "metadata": {},
   "source": [
    "# PA005 - High Value Customer Indetification"
   ]
  },
  {
   "cell_type": "code",
   "execution_count": 1,
   "id": "a77d11c0",
   "metadata": {
    "ExecuteTime": {
     "end_time": "2022-11-16T13:39:51.366031Z",
     "start_time": "2022-11-16T13:39:41.867072Z"
    }
   },
   "outputs": [],
   "source": [
    "import re\n",
    "\n",
    "import pandas     as pd\n",
    "import numpy      as np\n",
    "import seaborn    as sns\n",
    "import umap.umap_ as umap\n",
    "\n",
    "from sklearn.manifold     import TSNE\n",
    "from sklearn.neighbors    import NearestNeighbors\n",
    "\n",
    "from sklearn              import decomposition as dd\n",
    "from matplotlib           import pyplot        as plt\n",
    "from sklearn              import cluster       as c\n",
    "from sklearn              import metrics       as m\n",
    "from plotly               import express       as px\n",
    "from sklearn              import preprocessing as pp\n",
    "from sklearn              import ensemble      as en\n",
    "from sklearn              import mixture       as mx\n",
    "from scipy.cluster        import hierarchy     as hc"
   ]
  },
  {
   "cell_type": "markdown",
   "id": "09056698",
   "metadata": {},
   "source": [
    "## Loading Data"
   ]
  },
  {
   "cell_type": "code",
   "execution_count": 2,
   "id": "d6979c5c",
   "metadata": {
    "ExecuteTime": {
     "end_time": "2022-11-16T13:39:52.334721Z",
     "start_time": "2022-11-16T13:39:51.369031Z"
    }
   },
   "outputs": [],
   "source": [
    "df_raw = pd.read_csv('C:/Users/Pedro/repos/pa005_insiders_clustering/insiders_cluster/data/raw/data.csv', encoding='unicode_escape')"
   ]
  },
  {
   "cell_type": "markdown",
   "id": "0143c031",
   "metadata": {},
   "source": [
    "# 1.0 Data Description"
   ]
  },
  {
   "cell_type": "code",
   "execution_count": 3,
   "id": "6b971c7f",
   "metadata": {
    "ExecuteTime": {
     "end_time": "2022-11-16T13:39:52.365713Z",
     "start_time": "2022-11-16T13:39:52.338721Z"
    }
   },
   "outputs": [],
   "source": [
    "df1 = df_raw.copy()"
   ]
  },
  {
   "cell_type": "markdown",
   "id": "c726347b",
   "metadata": {},
   "source": [
    "## 1.1 Rename Columns"
   ]
  },
  {
   "cell_type": "code",
   "execution_count": 4,
   "id": "dd6b244e",
   "metadata": {
    "ExecuteTime": {
     "end_time": "2022-11-16T13:39:52.380708Z",
     "start_time": "2022-11-16T13:39:52.368711Z"
    }
   },
   "outputs": [],
   "source": [
    "cols_new = ['invoice_no', 'stock_code', 'description', 'quantity', 'invoice_date',\n",
    "       'unit_price', 'customer_id', 'country']\n",
    "\n",
    "df1.columns = cols_new"
   ]
  },
  {
   "cell_type": "markdown",
   "id": "be5a679e",
   "metadata": {},
   "source": [
    "## 1.2 Data Dimensions"
   ]
  },
  {
   "cell_type": "code",
   "execution_count": 5,
   "id": "8835a4b8",
   "metadata": {
    "ExecuteTime": {
     "end_time": "2022-11-16T13:39:52.395703Z",
     "start_time": "2022-11-16T13:39:52.383708Z"
    }
   },
   "outputs": [
    {
     "name": "stdout",
     "output_type": "stream",
     "text": [
      "The number of rows is: 541909\n",
      "The number of columns is: 8\n"
     ]
    }
   ],
   "source": [
    "print('The number of rows is: {}'.format( df1.shape[0] ))\n",
    "print('The number of columns is: {}'.format( df1.shape[1] ))"
   ]
  },
  {
   "cell_type": "markdown",
   "id": "11c8c036",
   "metadata": {},
   "source": [
    "## 1.3 Data Types"
   ]
  },
  {
   "cell_type": "code",
   "execution_count": 6,
   "id": "a5d22385",
   "metadata": {
    "ExecuteTime": {
     "end_time": "2022-11-16T13:39:52.426693Z",
     "start_time": "2022-11-16T13:39:52.399701Z"
    }
   },
   "outputs": [
    {
     "data": {
      "text/plain": [
       "invoice_no       object\n",
       "stock_code       object\n",
       "description      object\n",
       "quantity          int64\n",
       "invoice_date     object\n",
       "unit_price      float64\n",
       "customer_id     float64\n",
       "country          object\n",
       "dtype: object"
      ]
     },
     "execution_count": 6,
     "metadata": {},
     "output_type": "execute_result"
    }
   ],
   "source": [
    "df1.dtypes"
   ]
  },
  {
   "cell_type": "markdown",
   "id": "79133be9",
   "metadata": {},
   "source": [
    "## 1.4 Check NA"
   ]
  },
  {
   "cell_type": "code",
   "execution_count": 7,
   "id": "a4c08245",
   "metadata": {
    "ExecuteTime": {
     "end_time": "2022-11-16T13:39:52.911539Z",
     "start_time": "2022-11-16T13:39:52.430691Z"
    }
   },
   "outputs": [
    {
     "data": {
      "text/plain": [
       "invoice_no           0\n",
       "stock_code           0\n",
       "description       1454\n",
       "quantity             0\n",
       "invoice_date         0\n",
       "unit_price           0\n",
       "customer_id     135080\n",
       "country              0\n",
       "dtype: int64"
      ]
     },
     "execution_count": 7,
     "metadata": {},
     "output_type": "execute_result"
    }
   ],
   "source": [
    "df1.isna().sum()"
   ]
  },
  {
   "cell_type": "markdown",
   "id": "ae93e8f7",
   "metadata": {},
   "source": [
    "## 1.5 Replace NA"
   ]
  },
  {
   "cell_type": "code",
   "execution_count": 8,
   "id": "1e9d7ac5",
   "metadata": {
    "ExecuteTime": {
     "end_time": "2022-11-16T13:39:52.974518Z",
     "start_time": "2022-11-16T13:39:52.914538Z"
    }
   },
   "outputs": [],
   "source": [
    "# Spliting NA's into two differents dataframes\n",
    "\n",
    "df_missing = df1.loc[ df1['customer_id'].isna(), : ]\n",
    "df_not_missing = df1.loc[~df1['customer_id'].isna(), :]"
   ]
  },
  {
   "cell_type": "code",
   "execution_count": 9,
   "id": "755900cc",
   "metadata": {
    "ExecuteTime": {
     "end_time": "2022-11-16T13:39:53.224437Z",
     "start_time": "2022-11-16T13:39:52.979515Z"
    }
   },
   "outputs": [],
   "source": [
    "# Creating Reference\n",
    "df_backup = pd.DataFrame( df_missing['invoice_no'].drop_duplicates() )\n",
    "df_backup['customer_id'] = np.arange( 19000, 19000+len( df_backup ), 1 )\n",
    "\n",
    "# Merge original with reference dataframe\n",
    "df1 = pd.merge( df1, df_backup, on='invoice_no', how='left' )\n",
    "\n",
    "# coalesce\n",
    "df1['customer_id'] = df1['customer_id_x'].combine_first( df1['customer_id_y'] )\n",
    "\n",
    "# Dropping extra columns\n",
    "df1 = df1.drop(columns=['customer_id_x', 'customer_id_y'], axis=1)"
   ]
  },
  {
   "cell_type": "markdown",
   "id": "aeccbc04",
   "metadata": {},
   "source": [
    "## 1.6 Change Types"
   ]
  },
  {
   "cell_type": "code",
   "execution_count": 10,
   "id": "831521a4",
   "metadata": {
    "ExecuteTime": {
     "end_time": "2022-11-16T13:39:55.973579Z",
     "start_time": "2022-11-16T13:39:53.226437Z"
    }
   },
   "outputs": [],
   "source": [
    "# Invoice Date\n",
    "df1['invoice_date'] = pd.to_datetime( df1['invoice_date'] )\n",
    "\n",
    "# Customer ID\n",
    "df1['customer_id'] = df1['customer_id'].astype(np.int64)"
   ]
  },
  {
   "cell_type": "markdown",
   "id": "1468b62f",
   "metadata": {},
   "source": [
    "# 2.0 Filtragem de Variaveis"
   ]
  },
  {
   "cell_type": "code",
   "execution_count": 11,
   "id": "3b5f6f4b",
   "metadata": {
    "ExecuteTime": {
     "end_time": "2022-11-16T13:39:56.036557Z",
     "start_time": "2022-11-16T13:39:55.976577Z"
    }
   },
   "outputs": [],
   "source": [
    "df2 = df1.copy()"
   ]
  },
  {
   "cell_type": "code",
   "execution_count": 12,
   "id": "567eeca0",
   "metadata": {
    "ExecuteTime": {
     "end_time": "2022-11-16T13:39:56.349441Z",
     "start_time": "2022-11-16T13:39:56.039557Z"
    }
   },
   "outputs": [],
   "source": [
    "# ========= Numerical Attributes ==========\n",
    "\n",
    "# Pegando preços unitários maiores que 0.04\n",
    "df2 = df2.loc[ df2['unit_price'] >= 0.04, : ]\n",
    "\n",
    "\n",
    "# ========= Categorical Attributes ==========\n",
    "\n",
    "# Removing Stock Code letters\n",
    "df2 = df2[~df2['stock_code'].isin( ['POST', 'D', 'DOT', 'M', 'S', 'AMAZONFEE', 'm', 'DCGSSBOY', 'DCGSSGIRL', 'PADS', 'B', 'CRUK'] ) ]\n",
    "\n",
    "# Description\n",
    "df2 = df2.drop( columns=['description'], axis=1 )\n",
    "\n",
    "# Map\n",
    "df2 = df2[~df2['country'].isin( [ 'european Community', 'Unpecified' ] ) ]\n",
    "\n",
    "\n",
    "# Bad Users\n",
    "df2 = df2[~df2['customer_id'].isin( [16446] )]\n",
    "\n",
    "\n",
    "# Dividindo datasets em compras e retornos\n",
    "df2_purchases = df2.loc[df2['quantity'] >= 0, :]\n",
    "df2_returns = df2.loc[df2['quantity'] < 0, : ]"
   ]
  },
  {
   "cell_type": "markdown",
   "id": "1cabf34c",
   "metadata": {},
   "source": [
    "# 3.0. Feature Engineering"
   ]
  },
  {
   "cell_type": "code",
   "execution_count": 13,
   "id": "f6c09a46",
   "metadata": {
    "ExecuteTime": {
     "end_time": "2022-11-16T13:39:56.380439Z",
     "start_time": "2022-11-16T13:39:56.351439Z"
    }
   },
   "outputs": [],
   "source": [
    "df3 = df2.copy()"
   ]
  },
  {
   "cell_type": "markdown",
   "id": "7af98ee2",
   "metadata": {},
   "source": [
    "## 3.1. Feature Creation"
   ]
  },
  {
   "cell_type": "code",
   "execution_count": 14,
   "id": "68444cad",
   "metadata": {
    "ExecuteTime": {
     "end_time": "2022-11-16T13:39:56.412448Z",
     "start_time": "2022-11-16T13:39:56.382441Z"
    }
   },
   "outputs": [],
   "source": [
    "# Data reference\n",
    "df_ref = df3.drop( ['invoice_no', 'stock_code', 'quantity', 'invoice_date', 'unit_price', 'country'], axis=1 ).drop_duplicates(ignore_index=True)"
   ]
  },
  {
   "cell_type": "markdown",
   "id": "aecdd634",
   "metadata": {},
   "source": [
    "### 3.1.1 Gross Revenue"
   ]
  },
  {
   "cell_type": "code",
   "execution_count": 15,
   "id": "7808e028",
   "metadata": {
    "ExecuteTime": {
     "end_time": "2022-11-16T13:39:56.476427Z",
     "start_time": "2022-11-16T13:39:56.414447Z"
    },
    "scrolled": true
   },
   "outputs": [
    {
     "name": "stderr",
     "output_type": "stream",
     "text": [
      "C:\\Users\\Pedro\\AppData\\Local\\Temp\\ipykernel_13056\\4106628865.py:2: SettingWithCopyWarning: \n",
      "A value is trying to be set on a copy of a slice from a DataFrame.\n",
      "Try using .loc[row_indexer,col_indexer] = value instead\n",
      "\n",
      "See the caveats in the documentation: https://pandas.pydata.org/pandas-docs/stable/user_guide/indexing.html#returning-a-view-versus-a-copy\n",
      "  df2_purchases.loc[:, 'gross_revenue'] = df2_purchases.loc[:, 'quantity'] * df2_purchases.loc[:, 'unit_price']\n"
     ]
    },
    {
     "data": {
      "text/plain": [
       "customer_id       0\n",
       "gross_revenue    91\n",
       "dtype: int64"
      ]
     },
     "execution_count": 15,
     "metadata": {},
     "output_type": "execute_result"
    }
   ],
   "source": [
    "# Gross Revenue (Faturamento) quantity * price\n",
    "df2_purchases.loc[:, 'gross_revenue'] = df2_purchases.loc[:, 'quantity'] * df2_purchases.loc[:, 'unit_price']\n",
    "\n",
    "# Monetary\n",
    "df_monetary = df2_purchases.loc[:, ['customer_id', 'gross_revenue']].groupby('customer_id').sum().reset_index()\n",
    "df_ref = pd.merge( df_ref, df_monetary, on='customer_id', how='left' )\n",
    "df_ref.isna().sum()"
   ]
  },
  {
   "cell_type": "markdown",
   "id": "28c1998b",
   "metadata": {},
   "source": [
    "### 3.1.2 Recency - Days from last purchase"
   ]
  },
  {
   "cell_type": "code",
   "execution_count": 16,
   "id": "0df9ecde",
   "metadata": {
    "ExecuteTime": {
     "end_time": "2022-11-16T13:39:56.538418Z",
     "start_time": "2022-11-16T13:39:56.478427Z"
    }
   },
   "outputs": [
    {
     "data": {
      "text/plain": [
       "customer_id       0\n",
       "gross_revenue    91\n",
       "recency_days     91\n",
       "dtype: int64"
      ]
     },
     "execution_count": 16,
     "metadata": {},
     "output_type": "execute_result"
    }
   ],
   "source": [
    "# Recency - Last Day Purchase\n",
    "df_recency = df2_purchases.loc[:, ['customer_id', 'invoice_date']].groupby('customer_id').max().reset_index()\n",
    "df_recency['recency_days'] = ( df3['invoice_date'].max() - df_recency['invoice_date'] ).dt.days\n",
    "df_recency = df_recency[['customer_id', 'recency_days']].copy()\n",
    "df_ref = pd.merge( df_ref, df_recency, on='customer_id', how='left' )\n",
    "df_ref.isna().sum()"
   ]
  },
  {
   "cell_type": "markdown",
   "id": "77085876",
   "metadata": {},
   "source": [
    "### 3.1.5 Quantity of products purchased (variety)"
   ]
  },
  {
   "cell_type": "code",
   "execution_count": 17,
   "id": "9957e979",
   "metadata": {
    "ExecuteTime": {
     "end_time": "2022-11-16T13:39:56.678372Z",
     "start_time": "2022-11-16T13:39:56.541417Z"
    }
   },
   "outputs": [
    {
     "data": {
      "text/plain": [
       "customer_id       0\n",
       "gross_revenue    91\n",
       "recency_days     91\n",
       "qnt_products     91\n",
       "dtype: int64"
      ]
     },
     "execution_count": 17,
     "metadata": {},
     "output_type": "execute_result"
    }
   ],
   "source": [
    "df_stock = df2_purchases.loc[:, ['customer_id', 'stock_code']].groupby('customer_id').count().reset_index().rename(columns={'stock_code':'qnt_products'})\n",
    "df_ref = pd.merge( df_ref, df_stock, on='customer_id', how='left' )\n",
    "df_ref.isna().sum()"
   ]
  },
  {
   "cell_type": "markdown",
   "id": "0882befb",
   "metadata": {},
   "source": [
    "### 3.1.8 Frequency Purchase"
   ]
  },
  {
   "cell_type": "code",
   "execution_count": 18,
   "id": "f7c447ae",
   "metadata": {
    "ExecuteTime": {
     "end_time": "2022-11-16T13:39:58.349838Z",
     "start_time": "2022-11-16T13:39:56.680372Z"
    }
   },
   "outputs": [
    {
     "data": {
      "text/plain": [
       "customer_id       0\n",
       "gross_revenue    91\n",
       "recency_days     91\n",
       "qnt_products     91\n",
       "frequency        91\n",
       "dtype: int64"
      ]
     },
     "execution_count": 18,
     "metadata": {},
     "output_type": "execute_result"
    }
   ],
   "source": [
    "df_aux = ( df2_purchases[['customer_id', 'invoice_no', 'invoice_date']].drop_duplicates()\n",
    "                                                             .groupby('customer_id')\n",
    "                                                             .agg( max_ = ( 'invoice_date', 'max' ),\n",
    "                                                                   min_ = ( 'invoice_date', 'min' ),\n",
    "                                                                   days_ = ( 'invoice_date', lambda x: ( ( x.max() - x.min() ).days ) + 1 ),\n",
    "                                                                   buy_ = ( 'invoice_no', 'count') ) ).reset_index()\n",
    "\n",
    "df_aux['frequency'] = df_aux[['buy_', 'days_']].apply( lambda x: x['buy_'] / x['days_'] if x['days_'] != 0 else 0, axis=1 )\n",
    "\n",
    "\n",
    "df_ref = pd.merge( df_ref, df_aux[['customer_id', 'frequency']], on='customer_id', how='left' )\n",
    "\n",
    "df_ref.isna().sum()"
   ]
  },
  {
   "cell_type": "markdown",
   "id": "3c783500",
   "metadata": {},
   "source": [
    "### 3.1.9 Number of Returns"
   ]
  },
  {
   "cell_type": "code",
   "execution_count": 19,
   "id": "09e2d373",
   "metadata": {
    "ExecuteTime": {
     "end_time": "2022-11-16T13:39:58.381827Z",
     "start_time": "2022-11-16T13:39:58.351837Z"
    }
   },
   "outputs": [
    {
     "data": {
      "text/plain": [
       "customer_id       0\n",
       "gross_revenue    91\n",
       "recency_days     91\n",
       "qnt_products     91\n",
       "frequency        91\n",
       "qnt_returns       0\n",
       "dtype: int64"
      ]
     },
     "execution_count": 19,
     "metadata": {},
     "output_type": "execute_result"
    }
   ],
   "source": [
    "df_returns = df2_returns[['customer_id', 'quantity']].groupby( 'customer_id' ).sum().reset_index().rename(columns={'quantity': 'qnt_returns'})\n",
    "df_returns['qnt_returns'] = df_returns['qnt_returns'] * -1\n",
    "\n",
    "df_ref = pd.merge( df_ref, df_returns, how='left', on='customer_id' )\n",
    "df_ref.loc[df_ref['qnt_returns'].isna(), 'qnt_returns'] = 0\n",
    "df_ref.isna().sum()"
   ]
  },
  {
   "cell_type": "markdown",
   "id": "183ae954",
   "metadata": {},
   "source": [
    "# 4.0. Exploratory Data Analysis"
   ]
  },
  {
   "cell_type": "code",
   "execution_count": 20,
   "id": "d54edee7",
   "metadata": {
    "ExecuteTime": {
     "end_time": "2022-11-16T13:39:58.396823Z",
     "start_time": "2022-11-16T13:39:58.384827Z"
    }
   },
   "outputs": [],
   "source": [
    "df4 = df_ref.dropna().copy()"
   ]
  },
  {
   "cell_type": "markdown",
   "id": "3613e5a7",
   "metadata": {},
   "source": [
    "## 4.3. Estudo do Espaço"
   ]
  },
  {
   "cell_type": "code",
   "execution_count": 21,
   "id": "f02762fb",
   "metadata": {
    "ExecuteTime": {
     "end_time": "2022-11-16T13:39:58.411818Z",
     "start_time": "2022-11-16T13:39:58.399822Z"
    }
   },
   "outputs": [],
   "source": [
    "# Selected Features\n",
    "cols_selected = ['customer_id', 'gross_revenue', 'recency_days', 'qnt_products', 'frequency', 'qnt_returns']\n",
    "df43 = df4[cols_selected].copy()"
   ]
  },
  {
   "cell_type": "code",
   "execution_count": 22,
   "id": "4c9b56ca",
   "metadata": {
    "ExecuteTime": {
     "end_time": "2022-11-16T13:39:58.442808Z",
     "start_time": "2022-11-16T13:39:58.414817Z"
    }
   },
   "outputs": [],
   "source": [
    "mm = pp.MinMaxScaler()\n",
    "\n",
    "df43['gross_revenue']          = mm.fit_transform( df43[['gross_revenue']] )\n",
    "df43['recency_days']           = mm.fit_transform( df43[['recency_days']] )\n",
    "df43['qnt_products']           = mm.fit_transform( df43[['qnt_products']] )\n",
    "df43['frequency']              = mm.fit_transform( df43[['frequency']] )\n",
    "df43['qnt_returns']            = mm.fit_transform( df43[['qnt_returns']] )"
   ]
  },
  {
   "cell_type": "markdown",
   "id": "22ce9983",
   "metadata": {},
   "source": [
    "### Tree-Based Embedding"
   ]
  },
  {
   "cell_type": "code",
   "execution_count": 23,
   "id": "559e77e4",
   "metadata": {
    "ExecuteTime": {
     "end_time": "2022-11-16T13:40:00.429172Z",
     "start_time": "2022-11-16T13:39:58.444808Z"
    }
   },
   "outputs": [],
   "source": [
    "# Training Dataset\n",
    "X = df43.drop( columns=['gross_revenue', 'customer_id'], axis=1 )\n",
    "y = df43['gross_revenue']\n",
    "\n",
    "# Model Definition\n",
    "rf_model = en.RandomForestRegressor( n_estimators=100, random_state=42 )\n",
    "\n",
    "# Model Training\n",
    "rf_model.fit( X, y )\n",
    "\n",
    "# Leaf\n",
    "df_leaf = pd.DataFrame( rf_model.apply( X ) )"
   ]
  },
  {
   "cell_type": "code",
   "execution_count": 24,
   "id": "5fa538ef",
   "metadata": {
    "ExecuteTime": {
     "end_time": "2022-11-16T13:40:38.911575Z",
     "start_time": "2022-11-16T13:40:00.432171Z"
    }
   },
   "outputs": [
    {
     "name": "stderr",
     "output_type": "stream",
     "text": [
      "C:\\Users\\Pedro\\repos\\pa005_insiders_clustering\\pa_insiders_env\\lib\\site-packages\\sklearn\\manifold\\_spectral_embedding.py:259: UserWarning: Graph is not fully connected, spectral embedding may not work as expected.\n",
      "  warnings.warn(\n"
     ]
    }
   ],
   "source": [
    "reducer = umap.UMAP( random_state=42 )\n",
    "embedding = reducer.fit_transform( df_leaf )\n",
    "\n",
    "# Embedding\n",
    "df_tree = pd.DataFrame()\n",
    "df_tree['embedding_x'] = embedding[:, 0]\n",
    "df_tree['embedding_y'] = embedding[:, 1]"
   ]
  },
  {
   "cell_type": "markdown",
   "id": "513aab58",
   "metadata": {},
   "source": [
    "# 7.0. Hyper Parameter Fine Tuning"
   ]
  },
  {
   "cell_type": "code",
   "execution_count": 25,
   "id": "d715f5bf",
   "metadata": {
    "ExecuteTime": {
     "end_time": "2022-11-16T13:40:38.927569Z",
     "start_time": "2022-11-16T13:40:38.913573Z"
    }
   },
   "outputs": [],
   "source": [
    "X = df_tree.copy()"
   ]
  },
  {
   "cell_type": "markdown",
   "id": "7571f885",
   "metadata": {},
   "source": [
    "# 8.0 Model Training"
   ]
  },
  {
   "cell_type": "markdown",
   "id": "43b99198",
   "metadata": {},
   "source": [
    "## 8.1. K-Means"
   ]
  },
  {
   "cell_type": "code",
   "execution_count": 33,
   "id": "f360cdb4",
   "metadata": {
    "ExecuteTime": {
     "end_time": "2022-11-16T14:13:12.364032Z",
     "start_time": "2022-11-16T14:13:10.341680Z"
    }
   },
   "outputs": [],
   "source": [
    "# Model Definition\n",
    "k = 8\n",
    "kmeans = c.KMeans( init='random', n_clusters=k, n_init=300, max_iter=300, random_state=42 )\n",
    "\n",
    "# Model Training\n",
    "kmeans.fit( X )\n",
    "\n",
    "# Clustering\n",
    "labels = kmeans.labels_"
   ]
  },
  {
   "cell_type": "markdown",
   "id": "42797bcb",
   "metadata": {},
   "source": [
    "## 8.2. Cluster Validation"
   ]
  },
  {
   "cell_type": "code",
   "execution_count": 34,
   "id": "260a30f9",
   "metadata": {
    "ExecuteTime": {
     "end_time": "2022-11-16T14:13:15.395510Z",
     "start_time": "2022-11-16T14:13:14.616762Z"
    }
   },
   "outputs": [
    {
     "name": "stdout",
     "output_type": "stream",
     "text": [
      "SS Value: 0.4400531053543091\n"
     ]
    }
   ],
   "source": [
    "# SS (Silhouette Score)\n",
    "print( 'SS Value: {}'.format( m.silhouette_score( X, labels, metric='euclidean' ) ) )"
   ]
  },
  {
   "cell_type": "markdown",
   "id": "ed0ab14c",
   "metadata": {},
   "source": [
    "# 9.0 Cluster Analyses"
   ]
  },
  {
   "cell_type": "code",
   "execution_count": 35,
   "id": "cfc2631a",
   "metadata": {
    "ExecuteTime": {
     "end_time": "2022-11-16T14:13:18.780669Z",
     "start_time": "2022-11-16T14:13:18.744681Z"
    }
   },
   "outputs": [
    {
     "data": {
      "text/html": [
       "<div>\n",
       "<style scoped>\n",
       "    .dataframe tbody tr th:only-of-type {\n",
       "        vertical-align: middle;\n",
       "    }\n",
       "\n",
       "    .dataframe tbody tr th {\n",
       "        vertical-align: top;\n",
       "    }\n",
       "\n",
       "    .dataframe thead th {\n",
       "        text-align: right;\n",
       "    }\n",
       "</style>\n",
       "<table border=\"1\" class=\"dataframe\">\n",
       "  <thead>\n",
       "    <tr style=\"text-align: right;\">\n",
       "      <th></th>\n",
       "      <th>embedding_x</th>\n",
       "      <th>embedding_y</th>\n",
       "      <th>clusters</th>\n",
       "    </tr>\n",
       "  </thead>\n",
       "  <tbody>\n",
       "    <tr>\n",
       "      <th>0</th>\n",
       "      <td>8.913966</td>\n",
       "      <td>22.450937</td>\n",
       "      <td>0</td>\n",
       "    </tr>\n",
       "    <tr>\n",
       "      <th>1</th>\n",
       "      <td>10.913033</td>\n",
       "      <td>22.796009</td>\n",
       "      <td>0</td>\n",
       "    </tr>\n",
       "    <tr>\n",
       "      <th>2</th>\n",
       "      <td>9.891003</td>\n",
       "      <td>22.673065</td>\n",
       "      <td>0</td>\n",
       "    </tr>\n",
       "    <tr>\n",
       "      <th>3</th>\n",
       "      <td>-4.264469</td>\n",
       "      <td>3.080198</td>\n",
       "      <td>6</td>\n",
       "    </tr>\n",
       "    <tr>\n",
       "      <th>4</th>\n",
       "      <td>15.201887</td>\n",
       "      <td>-1.125108</td>\n",
       "      <td>3</td>\n",
       "    </tr>\n",
       "  </tbody>\n",
       "</table>\n",
       "</div>"
      ],
      "text/plain": [
       "   embedding_x  embedding_y  clusters\n",
       "0     8.913966    22.450937         0\n",
       "1    10.913033    22.796009         0\n",
       "2     9.891003    22.673065         0\n",
       "3    -4.264469     3.080198         6\n",
       "4    15.201887    -1.125108         3"
      ]
     },
     "execution_count": 35,
     "metadata": {},
     "output_type": "execute_result"
    }
   ],
   "source": [
    "df9 = X.copy()\n",
    "df9['clusters'] = labels\n",
    "df9.head()"
   ]
  },
  {
   "cell_type": "markdown",
   "id": "804fa7e0",
   "metadata": {},
   "source": [
    "## 9.4. Cluster Profile"
   ]
  },
  {
   "cell_type": "code",
   "execution_count": 47,
   "id": "21ec35fa",
   "metadata": {
    "ExecuteTime": {
     "end_time": "2022-11-16T14:41:08.408976Z",
     "start_time": "2022-11-16T14:41:08.396982Z"
    }
   },
   "outputs": [],
   "source": [
    "# Creating DataFrame\n",
    "df92 = df4.copy()\n",
    "df92['clusters'] = labels\n",
    "\n",
    "\n",
    "# Change Data Types\n",
    "df92['recency_days'] = df92['recency_days'].astype( np.int64 )\n",
    "df92['clusters'] = df92['clusters'].astype( np.int64 )\n",
    "df92['qnt_products'] = df92['qnt_products'].astype( np.int64 )\n",
    "df92['qnt_returns'] = df92['qnt_returns'].astype( np.int64 )"
   ]
  },
  {
   "cell_type": "code",
   "execution_count": 48,
   "id": "2bd4d4af",
   "metadata": {
    "ExecuteTime": {
     "end_time": "2022-11-16T14:41:10.772314Z",
     "start_time": "2022-11-16T14:41:10.712334Z"
    }
   },
   "outputs": [],
   "source": [
    "# Numbers of Customers\n",
    "df_cluster = df92[['clusters', 'customer_id']].groupby('clusters').count().reset_index().rename(columns={'customer_id': 'qnt_customers'})\n",
    "df_cluster['perc_customer'] = 100 * ( df_cluster['qnt_customers'] / df_cluster['qnt_customers'].sum() )\n",
    "\n",
    "# Avg Gross Revenue\n",
    "df_avg_gross_revenue = df92[['clusters', 'gross_revenue']].groupby( 'clusters' ).mean().reset_index()\n",
    "df_cluster = pd.merge( df_cluster, df_avg_gross_revenue, on='clusters', how='inner' )\n",
    "\n",
    "# Avg Recency Days\n",
    "df_avg_recency_days = df92[['clusters', 'recency_days']].groupby( 'clusters' ).mean().reset_index()\n",
    "df_cluster = pd.merge( df_cluster, df_avg_recency_days, on='clusters', how='inner' )\n",
    "\n",
    "# Avg Invoice_no\n",
    "df_avg_products = df92[['clusters', 'qnt_products']].groupby( 'clusters' ).mean().reset_index()\n",
    "df_cluster = pd.merge( df_cluster, df_avg_products, on='clusters', how='inner' )\n",
    "\n",
    "# Frequecy\n",
    "df_frequency = df92[['clusters', 'frequency']].groupby('clusters').mean().reset_index()\n",
    "df_cluster = pd.merge( df_cluster, df_frequency, on='clusters', how='inner' )\n",
    "\n",
    "# qnt_returns\n",
    "df_returns = df92[['clusters', 'qnt_returns']].groupby('clusters').mean().reset_index()\n",
    "df_cluster = pd.merge( df_cluster, df_returns, on='clusters', how='inner' )"
   ]
  },
  {
   "cell_type": "code",
   "execution_count": 49,
   "id": "cbec0fdf",
   "metadata": {
    "ExecuteTime": {
     "end_time": "2022-11-16T14:41:11.191588Z",
     "start_time": "2022-11-16T14:41:11.168595Z"
    }
   },
   "outputs": [
    {
     "data": {
      "text/html": [
       "<div>\n",
       "<style scoped>\n",
       "    .dataframe tbody tr th:only-of-type {\n",
       "        vertical-align: middle;\n",
       "    }\n",
       "\n",
       "    .dataframe tbody tr th {\n",
       "        vertical-align: top;\n",
       "    }\n",
       "\n",
       "    .dataframe thead th {\n",
       "        text-align: right;\n",
       "    }\n",
       "</style>\n",
       "<table border=\"1\" class=\"dataframe\">\n",
       "  <thead>\n",
       "    <tr style=\"text-align: right;\">\n",
       "      <th></th>\n",
       "      <th>clusters</th>\n",
       "      <th>qnt_customers</th>\n",
       "      <th>perc_customer</th>\n",
       "      <th>gross_revenue</th>\n",
       "      <th>recency_days</th>\n",
       "      <th>qnt_products</th>\n",
       "      <th>frequency</th>\n",
       "      <th>qnt_returns</th>\n",
       "    </tr>\n",
       "  </thead>\n",
       "  <tbody>\n",
       "    <tr>\n",
       "      <th>0</th>\n",
       "      <td>0</td>\n",
       "      <td>1141</td>\n",
       "      <td>20.000000</td>\n",
       "      <td>5630.984575</td>\n",
       "      <td>56.370727</td>\n",
       "      <td>292.321648</td>\n",
       "      <td>0.254526</td>\n",
       "      <td>138.811569</td>\n",
       "    </tr>\n",
       "    <tr>\n",
       "      <th>1</th>\n",
       "      <td>1</td>\n",
       "      <td>881</td>\n",
       "      <td>15.442594</td>\n",
       "      <td>1770.314064</td>\n",
       "      <td>109.505108</td>\n",
       "      <td>114.595914</td>\n",
       "      <td>0.511919</td>\n",
       "      <td>2.986379</td>\n",
       "    </tr>\n",
       "    <tr>\n",
       "      <th>2</th>\n",
       "      <td>2</td>\n",
       "      <td>703</td>\n",
       "      <td>12.322524</td>\n",
       "      <td>305.592916</td>\n",
       "      <td>151.820768</td>\n",
       "      <td>18.741110</td>\n",
       "      <td>1.017402</td>\n",
       "      <td>2.146515</td>\n",
       "    </tr>\n",
       "    <tr>\n",
       "      <th>3</th>\n",
       "      <td>3</td>\n",
       "      <td>676</td>\n",
       "      <td>11.849255</td>\n",
       "      <td>494.938802</td>\n",
       "      <td>115.313609</td>\n",
       "      <td>14.431953</td>\n",
       "      <td>0.409867</td>\n",
       "      <td>4.051775</td>\n",
       "    </tr>\n",
       "    <tr>\n",
       "      <th>4</th>\n",
       "      <td>4</td>\n",
       "      <td>613</td>\n",
       "      <td>10.744961</td>\n",
       "      <td>1101.094992</td>\n",
       "      <td>71.269168</td>\n",
       "      <td>45.831974</td>\n",
       "      <td>0.036962</td>\n",
       "      <td>7.228385</td>\n",
       "    </tr>\n",
       "    <tr>\n",
       "      <th>5</th>\n",
       "      <td>5</td>\n",
       "      <td>651</td>\n",
       "      <td>11.411043</td>\n",
       "      <td>597.010169</td>\n",
       "      <td>174.360983</td>\n",
       "      <td>30.376344</td>\n",
       "      <td>1.023331</td>\n",
       "      <td>0.405530</td>\n",
       "    </tr>\n",
       "    <tr>\n",
       "      <th>6</th>\n",
       "      <td>6</td>\n",
       "      <td>509</td>\n",
       "      <td>8.921998</td>\n",
       "      <td>520.030079</td>\n",
       "      <td>122.986248</td>\n",
       "      <td>19.066798</td>\n",
       "      <td>0.583331</td>\n",
       "      <td>10.950884</td>\n",
       "    </tr>\n",
       "    <tr>\n",
       "      <th>7</th>\n",
       "      <td>7</td>\n",
       "      <td>531</td>\n",
       "      <td>9.307625</td>\n",
       "      <td>467.489058</td>\n",
       "      <td>185.632768</td>\n",
       "      <td>24.312618</td>\n",
       "      <td>0.811349</td>\n",
       "      <td>4.789077</td>\n",
       "    </tr>\n",
       "  </tbody>\n",
       "</table>\n",
       "</div>"
      ],
      "text/plain": [
       "   clusters  qnt_customers  perc_customer  gross_revenue  recency_days  \\\n",
       "0         0           1141      20.000000    5630.984575     56.370727   \n",
       "1         1            881      15.442594    1770.314064    109.505108   \n",
       "2         2            703      12.322524     305.592916    151.820768   \n",
       "3         3            676      11.849255     494.938802    115.313609   \n",
       "4         4            613      10.744961    1101.094992     71.269168   \n",
       "5         5            651      11.411043     597.010169    174.360983   \n",
       "6         6            509       8.921998     520.030079    122.986248   \n",
       "7         7            531       9.307625     467.489058    185.632768   \n",
       "\n",
       "   qnt_products  frequency  qnt_returns  \n",
       "0    292.321648   0.254526   138.811569  \n",
       "1    114.595914   0.511919     2.986379  \n",
       "2     18.741110   1.017402     2.146515  \n",
       "3     14.431953   0.409867     4.051775  \n",
       "4     45.831974   0.036962     7.228385  \n",
       "5     30.376344   1.023331     0.405530  \n",
       "6     19.066798   0.583331    10.950884  \n",
       "7     24.312618   0.811349     4.789077  "
      ]
     },
     "execution_count": 49,
     "metadata": {},
     "output_type": "execute_result"
    }
   ],
   "source": [
    "df_cluster"
   ]
  },
  {
   "cell_type": "markdown",
   "id": "f3b60757",
   "metadata": {},
   "source": [
    "- 1. Cluster Insiders\n",
    "- 6. Cluster Spend Money \n",
    "- 2. Cluster Spend More Money\n",
    "- 7. Cluster Products and Money\n",
    "- 3. Cluster More Products and Money\n",
    "- 0. Cluster Money Products and Recency\n",
    "- 4. Cluster Weakest\n",
    "- 5. Cluster Best Frequency"
   ]
  },
  {
   "cell_type": "markdown",
   "id": "b024d4cc",
   "metadata": {},
   "source": [
    "# 11.0 Deploy to Production"
   ]
  },
  {
   "cell_type": "code",
   "execution_count": 50,
   "id": "f58ccf1a",
   "metadata": {
    "ExecuteTime": {
     "end_time": "2022-11-16T14:41:16.024860Z",
     "start_time": "2022-11-16T14:41:16.010865Z"
    }
   },
   "outputs": [
    {
     "data": {
      "text/plain": [
       "customer_id        int64\n",
       "gross_revenue    float64\n",
       "recency_days       int64\n",
       "qnt_products       int64\n",
       "frequency        float64\n",
       "qnt_returns        int64\n",
       "clusters           int64\n",
       "dtype: object"
      ]
     },
     "execution_count": 50,
     "metadata": {},
     "output_type": "execute_result"
    }
   ],
   "source": [
    "df92.dtypes"
   ]
  },
  {
   "cell_type": "markdown",
   "id": "be0b97fb",
   "metadata": {},
   "source": [
    "## 11.1 Insert into SQLite"
   ]
  },
  {
   "cell_type": "code",
   "execution_count": 58,
   "id": "b3e6c744",
   "metadata": {
    "ExecuteTime": {
     "end_time": "2022-11-16T14:51:49.784910Z",
     "start_time": "2022-11-16T14:51:49.543114Z"
    }
   },
   "outputs": [],
   "source": [
    "import sqlite3\n",
    "from sqlalchemy import create_engine"
   ]
  },
  {
   "cell_type": "code",
   "execution_count": 61,
   "id": "7e70c220",
   "metadata": {
    "ExecuteTime": {
     "end_time": "2022-11-16T14:54:00.497251Z",
     "start_time": "2022-11-16T14:54:00.480256Z"
    }
   },
   "outputs": [],
   "source": [
    "# Create Table\n",
    "#query_create_table_insiders = \"\"\"\n",
    "        \n",
    "#        CREATE TABLE insiders (\n",
    "#        customer_id     INTERGER,\n",
    "#        gross_revenue   REAL, \n",
    "#        recency_days    INTEGER,\n",
    "#        qnt_products    INTEGER,\n",
    "#        frequency       REAL,\n",
    "#        qnt_returns     INTEGER,\n",
    "#        clusters        INTEGER\n",
    "#        )  \n",
    "#\"\"\"\n",
    "\n",
    "\n",
    "#conn = sqlite3.connect('insiders_db.sqlite')\n",
    "#conn.execute( query_create_table_insiders )\n",
    "#conn.commit()\n",
    "#conn.close()\n",
    "\n",
    "\n",
    "# Insert Data\n",
    "conn = create_engine('sqlite:///insiders_db.sqlite')\n",
    "#df92.to_sql( 'insiders', con=conn, if_exists='append', index=False )\n",
    "\n",
    "# Select Data"
   ]
  },
  {
   "cell_type": "code",
   "execution_count": 62,
   "id": "9d7dfa71",
   "metadata": {
    "ExecuteTime": {
     "end_time": "2022-11-16T14:54:04.792696Z",
     "start_time": "2022-11-16T14:54:04.736716Z"
    }
   },
   "outputs": [],
   "source": [
    "# Consulting Database\n",
    "query = \"\"\"\n",
    "    SELECT * FROM insiders\n",
    "\"\"\"\n",
    "\n",
    "df = pd.read_sql_query( query, conn )"
   ]
  },
  {
   "cell_type": "code",
   "execution_count": 64,
   "id": "8ed4d0e7",
   "metadata": {
    "ExecuteTime": {
     "end_time": "2022-11-16T14:54:15.235291Z",
     "start_time": "2022-11-16T14:54:15.219296Z"
    }
   },
   "outputs": [
    {
     "data": {
      "text/plain": [
       "(5705, 7)"
      ]
     },
     "execution_count": 64,
     "metadata": {},
     "output_type": "execute_result"
    }
   ],
   "source": [
    "df.shape"
   ]
  },
  {
   "cell_type": "code",
   "execution_count": null,
   "id": "1d467664",
   "metadata": {},
   "outputs": [],
   "source": []
  }
 ],
 "metadata": {
  "kernelspec": {
   "display_name": "Python 3 (ipykernel)",
   "language": "python",
   "name": "python3"
  },
  "language_info": {
   "codemirror_mode": {
    "name": "ipython",
    "version": 3
   },
   "file_extension": ".py",
   "mimetype": "text/x-python",
   "name": "python",
   "nbconvert_exporter": "python",
   "pygments_lexer": "ipython3",
   "version": "3.9.13"
  }
 },
 "nbformat": 4,
 "nbformat_minor": 5
}
